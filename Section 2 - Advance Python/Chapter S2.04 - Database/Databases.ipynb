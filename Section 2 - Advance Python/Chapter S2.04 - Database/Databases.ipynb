{
 "cells": [
  {
   "cell_type": "markdown",
   "metadata": {},
   "source": [
    "# Databases\n",
    "----\n",
    "\n",
    "There are many ways one can access \n"
   ]
  },
  {
   "cell_type": "markdown",
   "metadata": {},
   "source": [
    "## DB-API\n",
    "---\n",
    "The Python Database API (DB-API) defines a standard interface for Python database access modules. It’s documented in PEP 249 https://www.python.org/dev/peps/pep-0249/. Nearly all Python database modules such as sqlite3, psycopg and mysql-python conform to this interface.\n",
    "\n",
    "### Example"
   ]
  },
  {
   "cell_type": "code",
   "execution_count": null,
   "metadata": {
    "collapsed": false
   },
   "outputs": [],
   "source": [
    "# -*- coding: utf-8 -*-\n",
    "\"\"\"\n",
    "Created on Mon Aug 15 07:37:10 2016\n",
    "\n",
    "@author: mayank johri\n",
    "\"\"\"\n",
    "\n",
    "try:\n",
    "    from sqlite3 import dbapi2 as sqlite\n",
    "except ImportError:\n",
    "    from pysqlite2 import dbapi2 as sqlite\n",
    "import os \n",
    "DB_FILE = 'db/comment.sqlite3'\n",
    "    \n",
    "def createDB():\n",
    "    import os\n",
    "    \n",
    "    if os.path.exists(DB_FILE):\n",
    "        os.remove(DB_FILE)    \n",
    "    db_conn = sqlite.connect(DB_FILE)\n",
    "        \n",
    "    db_curs = db_conn.cursor()\n",
    "    db_curs.execute(\"\"\"CREATE TABLE people (\n",
    "                    id INTEGER PRIMARY KEY, first_name VARCHAR(20),\n",
    "                    last_name VARCHAR(30), date_of_birth DATE)\"\"\")\n",
    "    \n",
    "    db_curs.execute(\"\"\"INSERT INTO people (first_name, last_name, date_of_birth)\n",
    "                         VALUES ('Mayank', 'Johri', '1976-7-10')\"\"\")\n",
    "    db_curs.close()\n",
    "    return db_conn\n",
    "\n",
    "def getData(db_conn):\n",
    "    db_cur = db_conn.cursor()\n",
    "    sql = \"select first_name, last_name, date_of_birth from people\"\n",
    "    db_cur.execute(sql)\n",
    "    data = db_cur.fetchall()\n",
    "    db_cur.close()\n",
    "    return data\n",
    "\n",
    "def getAllData(db_conn):\n",
    "    db_cur = db_conn.cursor()\n",
    "    sql = \"select first_name, last_name, date_of_birth from people\"\n",
    "    db_cur.execute(sql)\n",
    "    data = db_cur.fetchall()\n",
    "    db_cur.close()\n",
    "    return data\n",
    "    \n",
    "\n",
    "def setUser(db_conn, first_name, last_name, date_of_birth):\n",
    "    stmt = \"\"\"INSERT INTO people (first_name, \n",
    "                                  last_name, \n",
    "                                  date_of_birth) VALUES (?,?,?)\"\"\"\n",
    "    db_cur = db_conn.cursor()\n",
    "    db_cur.execute(stmt, (first_name, last_name, date_of_birth))\n",
    "    \n",
    "def rollback(db_conn):\n",
    "    pass\n",
    "\n",
    "def commit(db_conn):\n",
    "    db_conn.commit()\n",
    "    \n",
    "if __name__ == \"__main__\":\n",
    "    db_conn = None\n",
    "    try:\n",
    "      db_conn = createDB()\n",
    "      setUser(db_conn, \"Subhas\", \"Chandra Bose\", \"January 23, 1897\")\n",
    "      setUser(db_conn, \"Bhagat\", \"Singh\", \"September 28, 1907\")      \n",
    "      data = getAllData(db_conn)\n",
    "      print(type(data))\n",
    "      for d in data:\n",
    "          print(\"{0} {1} was born in {2}\".format(d[0], d[1], d[2]))\n",
    "    except:\n",
    "      rollback(db_conn)\n",
    "      raise \n",
    "    else:\n",
    "      commit(db_conn)\n",
    "    finally:\n",
    "        if db_conn != None:\n",
    "            db_conn.close()"
   ]
  },
  {
   "cell_type": "code",
   "execution_count": null,
   "metadata": {
    "collapsed": true
   },
   "outputs": [],
   "source": [
    "try:\n",
    "    from sqlite3 import dbapi2 as sqlite\n",
    "except ImportError:\n",
    "    from pysqlite2 import dbapi2 as sqlite\n",
    "\n",
    "DB_FILE = 'db/comment.sqlite3'\n",
    "\n"
   ]
  },
  {
   "cell_type": "markdown",
   "metadata": {},
   "source": [
    "## SQLAlchemy\n",
    "---\n",
    "SQLAlchemy is a commonly used database toolkit. Unlike many database libraries it not only provides an ORM layer but also a generalized API for writing database-agnostic code without SQL.\n",
    "> $ pip install sqlalchemy\n",
    "\n",
    "### Example"
   ]
  },
  {
   "cell_type": "code",
   "execution_count": null,
   "metadata": {
    "collapsed": false
   },
   "outputs": [],
   "source": [
    "from sqlalchemy import create_engine, ForeignKey\n",
    "from sqlalchemy import Column, Date, Integer, String\n",
    "from sqlalchemy.ext.declarative import declarative_base\n",
    "\n",
    "# engine.dispose()\n",
    "engine = create_engine('sqlite:///userlist.db', echo=True)\n",
    "Base = declarative_base()\n",
    "\n",
    "\n",
    "class User(Base):\n",
    "    __tablename__ = 'users'\n",
    "\n",
    "    id = Column(Integer, primary_key=True)\n",
    "    name = Column(String)\n",
    "    fullname = Column(String)\n",
    "    password = Column(String)\n",
    "\n",
    "    def __repr__(self):\n",
    "        return \"<User(name='%s', fullname='%s', password='%s')>\" % (self.name, self.fullname, self.password)\n",
    "\n",
    "\n",
    "Base.metadata.create_all(engine)\n",
    "\n",
    "from sqlalchemy.orm import sessionmaker\n",
    "Session = sessionmaker(bind=engine)\n",
    "session = Session()\n",
    "\n",
    "session_dec = Session()\n",
    "\n",
    "ed_user = User(name='Meenu', fullname='Meenakshi Johri', password='meenuInIndia')\n",
    "print(ed_user)\n",
    "session.add(ed_user)\n",
    "print(\"Ued_user.id\")\n",
    "session.add(User(name='GV',fullname='GV', password='gv@ibm'))\n",
    "session.flush()\n",
    "print(ed_user.id)\n",
    "\n",
    "#Now let’s commit the changes:\n",
    "session.commit()\n",
    "\n",
    "# #SQLAlchemy sends the COMMIT statement that permanently commits the flushed changes and ends the transaction.\n",
    "\n",
    "# # Delete\n",
    "# #To delete the test_page object from the database you would use:\n",
    "session.delete(ed_user)\n",
    "session.flush()\n",
    "# #At this point you can either commit the transaction or do a rollback. Let’s do a rollback this time:\n",
    "session.commit()\n",
    "session.close()\n",
    "engine.dispose()"
   ]
  },
  {
   "cell_type": "code",
   "execution_count": 2,
   "metadata": {
    "collapsed": false
   },
   "outputs": [
    {
     "name": "stdout",
     "output_type": "stream",
     "text": [
      "2017-04-29 09:35:25,208 INFO sqlalchemy.engine.base.Engine SELECT CAST('test plain returns' AS VARCHAR(60)) AS anon_1\n",
      "2017-04-29 09:35:25,216 INFO sqlalchemy.engine.base.Engine ()\n",
      "2017-04-29 09:35:25,220 INFO sqlalchemy.engine.base.Engine SELECT CAST('test unicode returns' AS VARCHAR(60)) AS anon_1\n",
      "2017-04-29 09:35:25,222 INFO sqlalchemy.engine.base.Engine ()\n",
      "2017-04-29 09:35:25,225 INFO sqlalchemy.engine.base.Engine PRAGMA table_info(\"users\")\n",
      "2017-04-29 09:35:25,228 INFO sqlalchemy.engine.base.Engine ()\n",
      "2017-04-29 09:35:25,232 INFO sqlalchemy.engine.base.Engine PRAGMA table_info(\"address\")\n",
      "2017-04-29 09:35:25,235 INFO sqlalchemy.engine.base.Engine ()\n"
     ]
    }
   ],
   "source": [
    "from sqlalchemy import create_engine, ForeignKey\n",
    "from sqlalchemy import Column, Date, Integer, String\n",
    "from sqlalchemy.ext.declarative import declarative_base\n",
    "from sqlalchemy.orm import relationship\n",
    "\n",
    "# engine.dispose()\n",
    "engine = create_engine('sqlite:///userlist.db', echo=True)\n",
    "Base = declarative_base()\n",
    "\n",
    "\n",
    "class User(Base):\n",
    "    __tablename__ = 'users'\n",
    "\n",
    "    id = Column(Integer, primary_key=True)\n",
    "    name = Column(String)\n",
    "    \n",
    "    def __repr__(self):\n",
    "        return \"<User(name='%s', fullname='%s', password='%s')>\" % (self.name, self.fullname, self.password)\n",
    "\n",
    "    \n",
    "class Address(Base):\n",
    "    __tablename__ = 'address'\n",
    "    \n",
    "    address_id = Column(Integer, primary_key=True)\n",
    "    house_name = Column(String)\n",
    "    house_no = Column(String)\n",
    "    city = Column(String)\n",
    "    user_id = Column(Integer, ForeignKey('User.id'))\n",
    "\n",
    "\n",
    "Base.metadata.create_all(engine)"
   ]
  },
  {
   "cell_type": "code",
   "execution_count": 3,
   "metadata": {
    "collapsed": false
   },
   "outputs": [
    {
     "ename": "TypeError",
     "evalue": "'fullname' is an invalid keyword argument for User",
     "output_type": "error",
     "traceback": [
      "\u001b[0;31m---------------------------------------------------------------------------\u001b[0m",
      "\u001b[0;31mTypeError\u001b[0m                                 Traceback (most recent call last)",
      "\u001b[0;32m<ipython-input-3-fbfd08e61bc6>\u001b[0m in \u001b[0;36m<module>\u001b[0;34m()\u001b[0m\n\u001b[1;32m      5\u001b[0m \u001b[0msession_dec\u001b[0m \u001b[1;33m=\u001b[0m \u001b[0mSession\u001b[0m\u001b[1;33m(\u001b[0m\u001b[1;33m)\u001b[0m\u001b[1;33m\u001b[0m\u001b[0m\n\u001b[1;32m      6\u001b[0m \u001b[1;33m\u001b[0m\u001b[0m\n\u001b[0;32m----> 7\u001b[0;31m \u001b[0med_user\u001b[0m \u001b[1;33m=\u001b[0m \u001b[0mUser\u001b[0m\u001b[1;33m(\u001b[0m\u001b[0mname\u001b[0m\u001b[1;33m=\u001b[0m\u001b[1;34m'Meenu'\u001b[0m\u001b[1;33m,\u001b[0m \u001b[0mfullname\u001b[0m\u001b[1;33m=\u001b[0m\u001b[1;34m'Meenakshi Johri'\u001b[0m\u001b[1;33m,\u001b[0m \u001b[0mpassword\u001b[0m\u001b[1;33m=\u001b[0m\u001b[1;34m'meenuInIndia'\u001b[0m\u001b[1;33m)\u001b[0m\u001b[1;33m\u001b[0m\u001b[0m\n\u001b[0m\u001b[1;32m      8\u001b[0m \u001b[1;31m# ed_user.address = Address(house_no=\"20\", house_name=\"Raj Ghar\", city= \"Jaipur\")\u001b[0m\u001b[1;33m\u001b[0m\u001b[1;33m\u001b[0m\u001b[0m\n\u001b[1;32m      9\u001b[0m \u001b[1;33m\u001b[0m\u001b[0m\n",
      "\u001b[0;32m<string>\u001b[0m in \u001b[0;36m__init__\u001b[0;34m(self, **kwargs)\u001b[0m\n",
      "\u001b[0;32mC:\\apps\\Anaconda3\\lib\\site-packages\\sqlalchemy\\orm\\state.py\u001b[0m in \u001b[0;36m_initialize_instance\u001b[0;34m(*mixed, **kwargs)\u001b[0m\n\u001b[1;32m    412\u001b[0m         \u001b[1;32mexcept\u001b[0m\u001b[1;33m:\u001b[0m\u001b[1;33m\u001b[0m\u001b[0m\n\u001b[1;32m    413\u001b[0m             \u001b[1;32mwith\u001b[0m \u001b[0mutil\u001b[0m\u001b[1;33m.\u001b[0m\u001b[0msafe_reraise\u001b[0m\u001b[1;33m(\u001b[0m\u001b[1;33m)\u001b[0m\u001b[1;33m:\u001b[0m\u001b[1;33m\u001b[0m\u001b[0m\n\u001b[0;32m--> 414\u001b[0;31m                 \u001b[0mmanager\u001b[0m\u001b[1;33m.\u001b[0m\u001b[0mdispatch\u001b[0m\u001b[1;33m.\u001b[0m\u001b[0minit_failure\u001b[0m\u001b[1;33m(\u001b[0m\u001b[0mself\u001b[0m\u001b[1;33m,\u001b[0m \u001b[0margs\u001b[0m\u001b[1;33m,\u001b[0m \u001b[0mkwargs\u001b[0m\u001b[1;33m)\u001b[0m\u001b[1;33m\u001b[0m\u001b[0m\n\u001b[0m\u001b[1;32m    415\u001b[0m \u001b[1;33m\u001b[0m\u001b[0m\n\u001b[1;32m    416\u001b[0m     \u001b[1;32mdef\u001b[0m \u001b[0mget_history\u001b[0m\u001b[1;33m(\u001b[0m\u001b[0mself\u001b[0m\u001b[1;33m,\u001b[0m \u001b[0mkey\u001b[0m\u001b[1;33m,\u001b[0m \u001b[0mpassive\u001b[0m\u001b[1;33m)\u001b[0m\u001b[1;33m:\u001b[0m\u001b[1;33m\u001b[0m\u001b[0m\n",
      "\u001b[0;32mC:\\apps\\Anaconda3\\lib\\site-packages\\sqlalchemy\\util\\langhelpers.py\u001b[0m in \u001b[0;36m__exit__\u001b[0;34m(self, type_, value, traceback)\u001b[0m\n\u001b[1;32m     58\u001b[0m             \u001b[0mexc_type\u001b[0m\u001b[1;33m,\u001b[0m \u001b[0mexc_value\u001b[0m\u001b[1;33m,\u001b[0m \u001b[0mexc_tb\u001b[0m \u001b[1;33m=\u001b[0m \u001b[0mself\u001b[0m\u001b[1;33m.\u001b[0m\u001b[0m_exc_info\u001b[0m\u001b[1;33m\u001b[0m\u001b[0m\n\u001b[1;32m     59\u001b[0m             \u001b[0mself\u001b[0m\u001b[1;33m.\u001b[0m\u001b[0m_exc_info\u001b[0m \u001b[1;33m=\u001b[0m \u001b[1;32mNone\u001b[0m   \u001b[1;31m# remove potential circular references\u001b[0m\u001b[1;33m\u001b[0m\u001b[0m\n\u001b[0;32m---> 60\u001b[0;31m             \u001b[0mcompat\u001b[0m\u001b[1;33m.\u001b[0m\u001b[0mreraise\u001b[0m\u001b[1;33m(\u001b[0m\u001b[0mexc_type\u001b[0m\u001b[1;33m,\u001b[0m \u001b[0mexc_value\u001b[0m\u001b[1;33m,\u001b[0m \u001b[0mexc_tb\u001b[0m\u001b[1;33m)\u001b[0m\u001b[1;33m\u001b[0m\u001b[0m\n\u001b[0m\u001b[1;32m     61\u001b[0m         \u001b[1;32melse\u001b[0m\u001b[1;33m:\u001b[0m\u001b[1;33m\u001b[0m\u001b[0m\n\u001b[1;32m     62\u001b[0m             \u001b[1;32mif\u001b[0m \u001b[1;32mnot\u001b[0m \u001b[0mcompat\u001b[0m\u001b[1;33m.\u001b[0m\u001b[0mpy3k\u001b[0m \u001b[1;32mand\u001b[0m \u001b[0mself\u001b[0m\u001b[1;33m.\u001b[0m\u001b[0m_exc_info\u001b[0m \u001b[1;32mand\u001b[0m \u001b[0mself\u001b[0m\u001b[1;33m.\u001b[0m\u001b[0m_exc_info\u001b[0m\u001b[1;33m[\u001b[0m\u001b[1;36m1\u001b[0m\u001b[1;33m]\u001b[0m\u001b[1;33m:\u001b[0m\u001b[1;33m\u001b[0m\u001b[0m\n",
      "\u001b[0;32mC:\\apps\\Anaconda3\\lib\\site-packages\\sqlalchemy\\util\\compat.py\u001b[0m in \u001b[0;36mreraise\u001b[0;34m(tp, value, tb, cause)\u001b[0m\n\u001b[1;32m    185\u001b[0m         \u001b[1;32mif\u001b[0m \u001b[0mvalue\u001b[0m\u001b[1;33m.\u001b[0m\u001b[0m__traceback__\u001b[0m \u001b[1;32mis\u001b[0m \u001b[1;32mnot\u001b[0m \u001b[0mtb\u001b[0m\u001b[1;33m:\u001b[0m\u001b[1;33m\u001b[0m\u001b[0m\n\u001b[1;32m    186\u001b[0m             \u001b[1;32mraise\u001b[0m \u001b[0mvalue\u001b[0m\u001b[1;33m.\u001b[0m\u001b[0mwith_traceback\u001b[0m\u001b[1;33m(\u001b[0m\u001b[0mtb\u001b[0m\u001b[1;33m)\u001b[0m\u001b[1;33m\u001b[0m\u001b[0m\n\u001b[0;32m--> 187\u001b[0;31m         \u001b[1;32mraise\u001b[0m \u001b[0mvalue\u001b[0m\u001b[1;33m\u001b[0m\u001b[0m\n\u001b[0m\u001b[1;32m    188\u001b[0m \u001b[1;33m\u001b[0m\u001b[0m\n\u001b[1;32m    189\u001b[0m \u001b[1;32melse\u001b[0m\u001b[1;33m:\u001b[0m\u001b[1;33m\u001b[0m\u001b[0m\n",
      "\u001b[0;32mC:\\apps\\Anaconda3\\lib\\site-packages\\sqlalchemy\\orm\\state.py\u001b[0m in \u001b[0;36m_initialize_instance\u001b[0;34m(*mixed, **kwargs)\u001b[0m\n\u001b[1;32m    409\u001b[0m \u001b[1;33m\u001b[0m\u001b[0m\n\u001b[1;32m    410\u001b[0m         \u001b[1;32mtry\u001b[0m\u001b[1;33m:\u001b[0m\u001b[1;33m\u001b[0m\u001b[0m\n\u001b[0;32m--> 411\u001b[0;31m             \u001b[1;32mreturn\u001b[0m \u001b[0mmanager\u001b[0m\u001b[1;33m.\u001b[0m\u001b[0moriginal_init\u001b[0m\u001b[1;33m(\u001b[0m\u001b[1;33m*\u001b[0m\u001b[0mmixed\u001b[0m\u001b[1;33m[\u001b[0m\u001b[1;36m1\u001b[0m\u001b[1;33m:\u001b[0m\u001b[1;33m]\u001b[0m\u001b[1;33m,\u001b[0m \u001b[1;33m**\u001b[0m\u001b[0mkwargs\u001b[0m\u001b[1;33m)\u001b[0m\u001b[1;33m\u001b[0m\u001b[0m\n\u001b[0m\u001b[1;32m    412\u001b[0m         \u001b[1;32mexcept\u001b[0m\u001b[1;33m:\u001b[0m\u001b[1;33m\u001b[0m\u001b[0m\n\u001b[1;32m    413\u001b[0m             \u001b[1;32mwith\u001b[0m \u001b[0mutil\u001b[0m\u001b[1;33m.\u001b[0m\u001b[0msafe_reraise\u001b[0m\u001b[1;33m(\u001b[0m\u001b[1;33m)\u001b[0m\u001b[1;33m:\u001b[0m\u001b[1;33m\u001b[0m\u001b[0m\n",
      "\u001b[0;32mC:\\apps\\Anaconda3\\lib\\site-packages\\sqlalchemy\\ext\\declarative\\base.py\u001b[0m in \u001b[0;36m_declarative_constructor\u001b[0;34m(self, **kwargs)\u001b[0m\n\u001b[1;32m    647\u001b[0m             raise TypeError(\n\u001b[1;32m    648\u001b[0m                 \u001b[1;34m\"%r is an invalid keyword argument for %s\"\u001b[0m \u001b[1;33m%\u001b[0m\u001b[1;33m\u001b[0m\u001b[0m\n\u001b[0;32m--> 649\u001b[0;31m                 (k, cls_.__name__))\n\u001b[0m\u001b[1;32m    650\u001b[0m         \u001b[0msetattr\u001b[0m\u001b[1;33m(\u001b[0m\u001b[0mself\u001b[0m\u001b[1;33m,\u001b[0m \u001b[0mk\u001b[0m\u001b[1;33m,\u001b[0m \u001b[0mkwargs\u001b[0m\u001b[1;33m[\u001b[0m\u001b[0mk\u001b[0m\u001b[1;33m]\u001b[0m\u001b[1;33m)\u001b[0m\u001b[1;33m\u001b[0m\u001b[0m\n\u001b[1;32m    651\u001b[0m \u001b[0m_declarative_constructor\u001b[0m\u001b[1;33m.\u001b[0m\u001b[0m__name__\u001b[0m \u001b[1;33m=\u001b[0m \u001b[1;34m'__init__'\u001b[0m\u001b[1;33m\u001b[0m\u001b[0m\n",
      "\u001b[0;31mTypeError\u001b[0m: 'fullname' is an invalid keyword argument for User"
     ]
    }
   ],
   "source": [
    "from sqlalchemy.orm import sessionmaker\n",
    "Session = sessionmaker(bind=engine)\n",
    "session = Session()\n",
    "\n",
    "session_dec = Session()\n",
    "\n",
    "ed_user = User(name='Meenu', fullname='Meenakshi Johri', password='meenuInIndia')\n",
    "# ed_user.address = Address(house_no=\"20\", house_name=\"Raj Ghar\", city= \"Jaipur\")\n",
    "\n",
    "session.commit()\n",
    "session.close()\n",
    "engine.dispose()"
   ]
  },
  {
   "cell_type": "code",
   "execution_count": null,
   "metadata": {
    "collapsed": true
   },
   "outputs": [],
   "source": []
  },
  {
   "cell_type": "markdown",
   "metadata": {},
   "source": [
    "## Records\n",
    "\n",
    "Records is minimalist SQL library, designed for sending raw SQL queries to various databases. Data can be used programmatically, or exported to a number of useful data formats.\n",
    "\n",
    "> $ pip install records\n",
    "\n",
    "Also included is a command-line tool for exporting SQL data."
   ]
  },
  {
   "cell_type": "code",
   "execution_count": null,
   "metadata": {
    "collapsed": false
   },
   "outputs": [],
   "source": [
    "import json # https://docs.python.org/3/library/json.html\n",
    "import requests # https://github.com/kennethreitz/requests\n",
    "import records # https://github.com/kennethreitz/records\n",
    "\n",
    "# randomuser.me generates random 'user' data (name, email, addr, phone number, etc)\n",
    "r = requests.get('http://api.randomuser.me/0.6/?nat=us&results=3')\n",
    "j = r.json()['results']\n",
    "\n",
    "# Valid SQLite URL forms are:\n",
    "#   sqlite:///:memory: (or, sqlite://)\n",
    "#   sqlite:///relative/path/to/file.db\n",
    "#   sqlite:////absolute/path/to/file.db\n",
    "\n",
    "# records will create this db on disk if 'users.db' doesn't exist already\n",
    "db = records.Database('sqlite:///users.db')\n",
    "\n",
    "db.query('DROP TABLE IF EXISTS persons')\n",
    "db.query('CREATE TABLE persons (key int PRIMARY KEY, fname text, lname text, email text)')\n",
    "\n",
    "for rec in j:\n",
    "    user = rec['user']\n",
    "    name = user['name']\n",
    "\n",
    "    key = user['registered']\n",
    "    fname = name['first']\n",
    "    lname = name['last']\n",
    "    email = user['email']\n",
    "    db.query('INSERT INTO persons (key, fname, lname, email) VALUES(:key, :fname, :lname, :email)',\n",
    "            key=key, fname=fname, lname=lname, email=email)\n",
    "\n",
    "rows = db.query('SELECT * FROM persons')\n",
    "print(rows.export('csv'))"
   ]
  },
  {
   "cell_type": "markdown",
   "metadata": {},
   "source": [
    "## SQLObject\n",
    "--------\n",
    "SQLObject is yet another ORM. It supports a wide variety of databases: Common database systems MySQL, Postgres and SQLite and more exotic systems like SAP DB, SyBase and MSSQL.\n",
    "\n",
    "SQLObject is a popular Object Relational Manager for providing an object interface to your database, with tables as classes, rows as instances, and columns as attributes.\n",
    "\n",
    "SQLObject includes a Python-object-based query language that makes SQL more abstract, and provides substantial database independence for applications."
   ]
  },
  {
   "cell_type": "code",
   "execution_count": null,
   "metadata": {
    "collapsed": false
   },
   "outputs": [],
   "source": [
    "import sqlobject\n",
    "from sqlobject.sqlite import builder\n",
    "conn = builder()('sqlobject_demo.db')\n",
    "\n",
    " \n",
    "class PhoneNumber(sqlobject.SQLObject):\n",
    "    _connection = conn\n",
    "    number = sqlobject.StringCol(length=14, unique=True)\n",
    "    owner = sqlobject.StringCol(length=255)\n",
    "    lastCall = sqlobject.DateTimeCol(default=None)\n",
    "    \n",
    "PhoneNumber.createTable(ifNotExists=True)\n",
    "\n",
    "myPhone = PhoneNumber(number='(415) 555-1212', \n",
    "                      owner='Leonard Richardson')\n"
   ]
  },
  {
   "cell_type": "code",
   "execution_count": null,
   "metadata": {
    "collapsed": false
   },
   "outputs": [],
   "source": [
    "# Running code with partial information will result in error \n",
    "duplicatePhone = PhoneNumber(number=\"(415) 555-1212\")"
   ]
  },
  {
   "cell_type": "code",
   "execution_count": null,
   "metadata": {
    "collapsed": false
   },
   "outputs": [],
   "source": [
    "duplicatePhone = PhoneNumber(number=\"(415) 555-1212\")"
   ]
  },
  {
   "cell_type": "code",
   "execution_count": null,
   "metadata": {
    "collapsed": true
   },
   "outputs": [],
   "source": []
  },
  {
   "cell_type": "markdown",
   "metadata": {},
   "source": [
    "### Defining relationships among tables\n",
    "\n",
    "SQLObject lets you define relationships among tables as foreign keys"
   ]
  },
  {
   "cell_type": "code",
   "execution_count": null,
   "metadata": {
    "collapsed": true
   },
   "outputs": [],
   "source": [
    "import sqlobject\n",
    "from sqlobject.sqlite import builder\n",
    "conn = builder()('sqlobject_demo_relationships.db')\n",
    " \n",
    " \n",
    "class PhoneNumber(sqlobject.SQLObject):\n",
    "    _connection = conn\n",
    "    number = sqlobject.StringCol(length=14, unique=True)\n",
    "    owner = sqlobject.ForeignKey('Person')\n",
    "    lastCall = sqlobject.DateTimeCol(default=None)\n",
    " \n",
    " \n",
    "class Person(sqlobject.SQLObject):\n",
    "    _idName='fooID'\n",
    "    _connection = conn\n",
    "    name = sqlobject.StringCol(length=255)\n",
    "    #The SQLObject-defined name for the \"owner\" field of PhoneNumber\n",
    "    #is \"owner_id\" since it's a reference to another table's primary\n",
    "    #key.\n",
    "    numbers = sqlobject.MultipleJoin('PhoneNumber', joinColumn='owner_id')\n",
    "Person.createTable(ifNotExists=True)\n",
    "PhoneNumber.createTable(ifNotExists=True)\n"
   ]
  },
  {
   "cell_type": "code",
   "execution_count": null,
   "metadata": {
    "collapsed": false
   },
   "outputs": [],
   "source": [
    "person = Person(name='Vinay')\n",
    "p = PhoneNumber(number=\"2222\", owner=person)"
   ]
  }
 ],
 "metadata": {
  "anaconda-cloud": {},
  "kernelspec": {
   "display_name": "Python 3",
   "language": "python",
   "name": "python3"
  },
  "language_info": {
   "codemirror_mode": {
    "name": "ipython",
    "version": 3
   },
   "file_extension": ".py",
   "mimetype": "text/x-python",
   "name": "python",
   "nbconvert_exporter": "python",
   "pygments_lexer": "ipython3",
   "version": "3.6.0"
  }
 },
 "nbformat": 4,
 "nbformat_minor": 0
}
