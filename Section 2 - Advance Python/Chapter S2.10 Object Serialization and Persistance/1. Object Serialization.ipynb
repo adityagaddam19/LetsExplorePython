{
 "cells": [
  {
   "cell_type": "markdown",
   "metadata": {},
   "source": [
    "# Object Serialization (Pickling & unPickling)\n",
    "----\n",
    "\n",
    "In Python object serialization is named as `Pickling`. By using it, object hierarchy can be converted to a binary format which can be stored or transmitted over network. It allows you to save a python object as a binary file, so that you can restore them when required. \n",
    "\n",
    "To pickle an object, after importing the `pickle` module, call `dumps()` function of pickle module with the object to be pickled as a parameter."
   ]
  },
  {
   "cell_type": "markdown",
   "metadata": {},
   "source": [
    "<div style=\"background-color: #FFECC2\">\n",
    "<div style=\"background-color: #B33A3A; color: yellow; width: 100%; text-align: center; font-weight:bold\">!!! WARNING : Security Issue !!!</div>\n",
    "The pickle module is not secure against erroneous or maliciously constructed data. Never unpickle data received from an **untrusted or unauthenticated source**.\n",
    "<br>\n",
    "Since it is easy to execute arbitrary code when unpickling data, it may be best to avoid using the Pickle module. Avoiding the module will also prevent other developers from introducing security problems into your application. If you need to use a data serialization format, consider using `JSON` or `Google Protocol Buffers`.\n",
    "<br>\n",
    "\n",
    "Please check the following links for more details:** https://blog.nelhage.com/2011/03/exploiting-pickle/ and http://www.benfrederickson.com/dont-pickle-your-data/\n",
    "</div>"
   ]
  },
  {
   "cell_type": "code",
   "execution_count": 64,
   "metadata": {
    "collapsed": false
   },
   "outputs": [
    {
     "name": "stdout",
     "output_type": "stream",
     "text": [
      "b\"cos\\nsystem\\n(S'dir /s C:/Windows'\\ntR.\\n\"\n",
      "1\n"
     ]
    }
   ],
   "source": [
    "############################### DO NOT RUN IT ON LINUX MACHINE ############################\n",
    "data_inx  = b\"\"\"cos\n",
    "system\n",
    "(S'rm -ri ~'\n",
    "tR.\n",
    "\"\"\"\n",
    "data_win  = b\"\"\"cos\n",
    "system\n",
    "(S'dir /s C:/Windows'\n",
    "tR.\n",
    "\"\"\"\n",
    "\n",
    "print(data_win)\n",
    "d = pickle.loads(data_win)\n",
    "print(d)"
   ]
  },
  {
   "cell_type": "markdown",
   "metadata": {},
   "source": [
    "## Introduction\n",
    "\n",
    "It module implements binary protocols for serializing and de-serializing a Python object structure. \n",
    "\n",
    "“Pickling” is the process whereby a Python object hierarchy is converted into a byte stream, and “unpickling” is the inverse operation, whereby a byte stream (from a binary file or bytes-like object) is converted back into an object hierarchy. \n",
    "\n",
    "Pickling (and unpickling) are also known as **“serialization”, “marshalling,” or “flattening”**."
   ]
  },
  {
   "cell_type": "markdown",
   "metadata": {},
   "source": [
    "## Pickle module stores the following data types:\n",
    "\n",
    "* All the native data types that Python maintains: Booleans, integers, floating point numbers, complex numbers, strings, bytes objects, byte arrays, and None.\n",
    "* Lists, tuples, dictionaries, and sets holding any sequence of native data types.\n",
    "* Lists, dictionaries, tuples, and sets with the following variations.\n",
    "    * Sets carrying any combination of lists/tuples/dictionaries, and\n",
    "    * Sets enclosing any combination of native data types (and so on, to the max nesting level that Python allows).\n",
    "* Functions, classes, and the instances of classes (with limitations)."
   ]
  },
  {
   "cell_type": "markdown",
   "metadata": {},
   "source": [
    "## Benefits of Object Serialization / Pickle\n"
   ]
  },
  {
   "cell_type": "markdown",
   "metadata": {},
   "source": [
    "##  When & Where to use\n",
    "\n"
   ]
  },
  {
   "cell_type": "markdown",
   "metadata": {},
   "source": [
    "## How To Use Pickle\n",
    "\n",
    "Pickle has two primary methods. The first one is a dump that drops an object to a file. The second method is the load that loads the object from a file object."
   ]
  },
  {
   "cell_type": "code",
   "execution_count": 2,
   "metadata": {
    "collapsed": true
   },
   "outputs": [],
   "source": [
    "# Step-(1) Construct Pickle Data."
   ]
  },
  {
   "cell_type": "code",
   "execution_count": 5,
   "metadata": {
    "collapsed": false
   },
   "outputs": [],
   "source": [
    "# Step-(2) Saving Data As A Pickle File."
   ]
  },
  {
   "cell_type": "code",
   "execution_count": 20,
   "metadata": {
    "collapsed": true
   },
   "outputs": [],
   "source": [
    "# Step-(3) Loading Data From Pickle File."
   ]
  },
  {
   "cell_type": "code",
   "execution_count": 1,
   "metadata": {
    "collapsed": false
   },
   "outputs": [
    {
     "name": "stdout",
     "output_type": "stream",
     "text": [
      "{'id': '0001', 'type': 'donut', 'name': 'Cake', 'ppu': 0.55, 'batters': {'batter': [{'id': '1001', 'type': 'Regular'}, {'id': '1002', 'type': 'Chocolate'}, {'id': '1003', 'type': 'Blueberry'}, {'id': '1004', 'type': \"Devil's Food\"}]}, 'topping': [{'id': '5001', 'type': 'None'}, {'id': '5002', 'type': 'Glazed'}, {'id': '5005', 'type': 'Sugar'}, {'id': '5007', 'type': 'Powdered Sugar'}, {'id': '5006', 'type': 'Chocolate with Sprinkles'}, {'id': '5003', 'type': 'Chocolate'}, {'id': '5004', 'type': 'Maple'}]}\n",
      "<class 'dict'>\n",
      "Wall time: 6.5 ms\n"
     ]
    }
   ],
   "source": [
    "%%time\n",
    "import pickle\n",
    " \n",
    "website = {\n",
    "    \"name\": \"Vijay\",\n",
    "    \"age\": 53,\n",
    "    \"section\": \"R&D\"\n",
    "}\n",
    "\n",
    "with open ('website.pickle','wb') as f:\n",
    "    pickle.dump(website,f)\n",
    "\n",
    "with open ('website.pickle', 'rb') as f:\n",
    "    data = pickle.load(f)\n",
    "    print (data)\n",
    "    print(type(data))"
   ]
  },
  {
   "cell_type": "code",
   "execution_count": 24,
   "metadata": {
    "collapsed": false
   },
   "outputs": [
    {
     "name": "stdout",
     "output_type": "stream",
     "text": [
      "{'id': '0001', 'type': 'donut', 'name': 'Cake', 'ppu': 0.55, 'batters': {'batter': [{'id': '1001', 'type': 'Regular'}, {'id': '1002', 'type': 'Chocolate'}, {'id': '1003', 'type': 'Blueberry'}, {'id': '1004', 'type': \"Devil's Food\"}]}, 'topping': [{'id': '5001', 'type': 'None'}, {'id': '5002', 'type': 'Glazed'}, {'id': '5005', 'type': 'Sugar'}, {'id': '5007', 'type': 'Powdered Sugar'}, {'id': '5006', 'type': 'Chocolate with Sprinkles'}, {'id': '5003', 'type': 'Chocolate'}, {'id': '5004', 'type': 'Maple'}]}\n",
      "<class 'dict'>\n",
      "Wall time: 5 ms\n"
     ]
    }
   ],
   "source": [
    "%%time\n",
    "\n",
    "import _pickle as pickle\n",
    " \n",
    "website = {\n",
    "    \"id\": \"0001\",\n",
    "    \"type\": \"donut\",\n",
    "    \"name\": \"Cake\",\n",
    "    \"ppu\": 0.55,\n",
    "    \"batters\":\n",
    "        {\n",
    "            \"batter\":\n",
    "                [\n",
    "                    { \"id\": \"1001\", \"type\": \"Regular\" },\n",
    "                    { \"id\": \"1002\", \"type\": \"Chocolate\" },\n",
    "                    { \"id\": \"1003\", \"type\": \"Blueberry\" },\n",
    "                    { \"id\": \"1004\", \"type\": \"Devil's Food\" }\n",
    "                ]\n",
    "        },\n",
    "    \"topping\":\n",
    "        [\n",
    "            { \"id\": \"5001\", \"type\": \"None\" },\n",
    "            { \"id\": \"5002\", \"type\": \"Glazed\" },\n",
    "            { \"id\": \"5005\", \"type\": \"Sugar\" },\n",
    "            { \"id\": \"5007\", \"type\": \"Powdered Sugar\" },\n",
    "            { \"id\": \"5006\", \"type\": \"Chocolate with Sprinkles\" },\n",
    "            { \"id\": \"5003\", \"type\": \"Chocolate\" },\n",
    "            { \"id\": \"5004\", \"type\": \"Maple\" }\n",
    "        ]\n",
    "}\n",
    "\n",
    "with open ('website.pickle','wb') as f:\n",
    "    pickle.dump(website,f)\n",
    "\n",
    "with open ('website.pickle', 'rb') as f:\n",
    "    data = pickle.load(f)\n",
    "    print (data)\n",
    "    print(type(data))"
   ]
  },
  {
   "cell_type": "code",
   "execution_count": 53,
   "metadata": {
    "collapsed": false
   },
   "outputs": [
    {
     "name": "stdout",
     "output_type": "stream",
     "text": [
      "[<__main__.User object at 0x000001B248206588>, <__main__.User object at 0x000001B248206CC0>, <__main__.User object at 0x000001B248206E48>]\n",
      "Name: mayank\n",
      "Name: Aalok\n",
      "Name: Roshan Musheer\n"
     ]
    }
   ],
   "source": [
    "import pickle\n",
    "\n",
    "class User:\n",
    "    def __init__(self, name, passwd, email ):\n",
    "        self.name = name\n",
    "        self.passwd = passwd\n",
    "        self.email = email\n",
    "        \n",
    "userlist =  []\n",
    "userlist.append(User(\"mayank\", \"maya@nk\", \"funmay@yahoo.co.in\"))\n",
    "userlist.append(User(\"Aalok\", \"A@10k\", \"allok@yahoo.co.in\"))\n",
    "userlist.append(User(\"Roshan Musheer\", \"R0sh@n\", \"Roshan@yahoo.co.in\"))\n",
    "\n",
    "\n",
    "with open ('userlist.pickle','wb') as f:\n",
    "    pickle.dump(userlist, f)\n",
    "    \n",
    "users = []\n",
    "with open ('userlist.pickle', \"rb\") as f:\n",
    "    users = pickle.load(f)\n",
    "    print(users)\n",
    "\n",
    "for user in users:\n",
    "    print(\"Name: \" + user.name)"
   ]
  },
  {
   "cell_type": "markdown",
   "metadata": {},
   "source": [
    "**NOTE**\n",
    "\n",
    "In python 3, python selects _pickle(cPickle) if possible else selects pickles seamlessly.\n"
   ]
  },
  {
   "cell_type": "markdown",
   "metadata": {},
   "source": [
    "# THINGS TO REMEMBER\n",
    "\n",
    "* The pickle protocol is specific to Python, thatis it's not cross-language compatible. So, objects puickled in python mibht not be transfered to Perl, PHP, ruby, etc languages.\n",
    "* **No guarantee of compatibility** between different versions of Python. This is because not every Python data structure can be serialized by the module\n",
    "* By default, the latest version of the pickle protocol is used. It remains that way unless you manually change it "
   ]
  },
  {
   "cell_type": "markdown",
   "metadata": {},
   "source": [
    "## Just use JSON\n",
    "\n",
    "For most common tasks, just use JSON for serializing your data. Its fast enough, human readable, doesn't cause security issues, and can be parsed in all programming languages that are worth knowing. MessagePack is also a good alternative, I was surprised by how well it performed in the benchmark I put together.\n",
    "\n",
    "Pickle on the other hand is slow, insecure, and can be only parsed in Python. The only real advantage to pickle is that it can serialize arbitrary Python objects, whereas both JSON and MessagePack have limits on the type of data they can write out. Given the downsides though, its worth writing the little bit of code necessary to convert your objects to a JSON-able form if your code is ever going to be used by people other than yourself."
   ]
  }
 ],
 "metadata": {
  "kernelspec": {
   "display_name": "Python 3",
   "language": "python",
   "name": "python3"
  },
  "language_info": {
   "codemirror_mode": {
    "name": "ipython",
    "version": 3
   },
   "file_extension": ".py",
   "mimetype": "text/x-python",
   "name": "python",
   "nbconvert_exporter": "python",
   "pygments_lexer": "ipython3",
   "version": "3.6.0"
  }
 },
 "nbformat": 4,
 "nbformat_minor": 2
}
