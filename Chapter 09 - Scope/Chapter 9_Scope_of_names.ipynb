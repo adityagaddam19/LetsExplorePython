{
 "cells": [
  {
   "cell_type": "markdown",
   "metadata": {},
   "source": [
    "# Chapter 9: Scope of names\n",
    "_____________________________\n",
    "\n",
    "The scope of names in Python are maintained by *Namespaces*, which are dictionaries that list the names of the objects (references) and the objects themselves.\n",
    "\n",
    "Normally, the names are defined in two dictionaries, which can be accessed through the functions `locals()` and `globals()`. These dictionaries are updated dynamically at <span class=\"note\" title=\"Although the dictionaries returned by locals() and globals() can be changed directly, this should be avoided because it can have undesirable effects.\">runtime</span>.\n",
    "\n",
    "![Namespaces](files/bpyfd_diags7.png)\n",
    "\n",
    "Global variables can be overshadowed by local variables (because the local scope is consulted before the global scope). To avoid this, you must declare the variable as global in the local scope.\n",
    "\n",
    "example:"
   ]
  },
  {
   "cell_type": "code",
   "execution_count": 4,
   "metadata": {},
   "outputs": [
    {
     "name": "stdout",
     "output_type": "stream",
     "text": [
      "21\n"
     ]
    }
   ],
   "source": [
    "add = 10\n",
    "\n",
    "def addlist(lists):\n",
    "    \"\"\"\n",
    "    Add lists of lists, recursively\n",
    "    the result is global\n",
    "    \"\"\"\n",
    "    global add\n",
    "    \n",
    "    for item in lists:\n",
    "        if isinstance(item, list): # If item type is list\n",
    "            addlist(item)\n",
    "        else:\n",
    "            add += item\n",
    "\n",
    "add = 0\n",
    "addlist([[1, 2], [3, 4, 5], 6])\n",
    "\n",
    "print(add)"
   ]
  },
  {
   "cell_type": "code",
   "execution_count": 2,
   "metadata": {},
   "outputs": [
    {
     "ename": "UnboundLocalError",
     "evalue": "local variable 'x' referenced before assignment",
     "output_type": "error",
     "traceback": [
      "\u001b[0;31m---------------------------------------------------------------------------\u001b[0m",
      "\u001b[0;31mUnboundLocalError\u001b[0m                         Traceback (most recent call last)",
      "\u001b[0;32m<ipython-input-2-81d4a3ca42d7>\u001b[0m in \u001b[0;36m<module>\u001b[0;34m()\u001b[0m\n\u001b[1;32m     18\u001b[0m         \u001b[0mprint\u001b[0m\u001b[0;34m(\u001b[0m\u001b[0mx\u001b[0m\u001b[0;34m)\u001b[0m\u001b[0;34m\u001b[0m\u001b[0m\n\u001b[1;32m     19\u001b[0m \u001b[0;34m\u001b[0m\u001b[0m\n\u001b[0;32m---> 20\u001b[0;31m \u001b[0maddlist\u001b[0m\u001b[0;34m(\u001b[0m\u001b[0;34m[\u001b[0m\u001b[0;34m[\u001b[0m\u001b[0;36m1\u001b[0m\u001b[0;34m,\u001b[0m \u001b[0;36m2\u001b[0m\u001b[0;34m]\u001b[0m\u001b[0;34m,\u001b[0m \u001b[0;34m[\u001b[0m\u001b[0;36m3\u001b[0m\u001b[0;34m,\u001b[0m \u001b[0;36m4\u001b[0m\u001b[0;34m,\u001b[0m \u001b[0;36m5\u001b[0m\u001b[0;34m]\u001b[0m\u001b[0;34m,\u001b[0m \u001b[0;36m6\u001b[0m\u001b[0;34m]\u001b[0m\u001b[0;34m)\u001b[0m\u001b[0;34m\u001b[0m\u001b[0m\n\u001b[0m\u001b[1;32m     21\u001b[0m \u001b[0;34m\u001b[0m\u001b[0m\n\u001b[1;32m     22\u001b[0m \u001b[0mprint\u001b[0m\u001b[0;34m(\u001b[0m\u001b[0madd\u001b[0m\u001b[0;34m)\u001b[0m\u001b[0;34m\u001b[0m\u001b[0m\n",
      "\u001b[0;32m<ipython-input-2-81d4a3ca42d7>\u001b[0m in \u001b[0;36maddlist\u001b[0;34m(lists)\u001b[0m\n\u001b[1;32m     10\u001b[0m     \u001b[0;32mfor\u001b[0m \u001b[0mitem\u001b[0m \u001b[0;32min\u001b[0m \u001b[0mlists\u001b[0m\u001b[0;34m:\u001b[0m\u001b[0;34m\u001b[0m\u001b[0m\n\u001b[1;32m     11\u001b[0m         \u001b[0;32mif\u001b[0m \u001b[0misinstance\u001b[0m\u001b[0;34m(\u001b[0m\u001b[0mitem\u001b[0m\u001b[0;34m,\u001b[0m \u001b[0mlist\u001b[0m\u001b[0;34m)\u001b[0m\u001b[0;34m:\u001b[0m \u001b[0;31m# If item type is list\u001b[0m\u001b[0;34m\u001b[0m\u001b[0m\n\u001b[0;32m---> 12\u001b[0;31m             \u001b[0maddlist\u001b[0m\u001b[0;34m(\u001b[0m\u001b[0mitem\u001b[0m\u001b[0;34m)\u001b[0m\u001b[0;34m\u001b[0m\u001b[0m\n\u001b[0m\u001b[1;32m     13\u001b[0m             \u001b[0mx\u001b[0m \u001b[0;34m=\u001b[0m \u001b[0;36m100\u001b[0m\u001b[0;34m\u001b[0m\u001b[0m\n\u001b[1;32m     14\u001b[0m         \u001b[0;32melse\u001b[0m\u001b[0;34m:\u001b[0m\u001b[0;34m\u001b[0m\u001b[0m\n",
      "\u001b[0;32m<ipython-input-2-81d4a3ca42d7>\u001b[0m in \u001b[0;36maddlist\u001b[0;34m(lists)\u001b[0m\n\u001b[1;32m     16\u001b[0m \u001b[0;34m\u001b[0m\u001b[0m\n\u001b[1;32m     17\u001b[0m \u001b[0;34m\u001b[0m\u001b[0m\n\u001b[0;32m---> 18\u001b[0;31m         \u001b[0mprint\u001b[0m\u001b[0;34m(\u001b[0m\u001b[0mx\u001b[0m\u001b[0;34m)\u001b[0m\u001b[0;34m\u001b[0m\u001b[0m\n\u001b[0m\u001b[1;32m     19\u001b[0m \u001b[0;34m\u001b[0m\u001b[0m\n\u001b[1;32m     20\u001b[0m \u001b[0maddlist\u001b[0m\u001b[0;34m(\u001b[0m\u001b[0;34m[\u001b[0m\u001b[0;34m[\u001b[0m\u001b[0;36m1\u001b[0m\u001b[0;34m,\u001b[0m \u001b[0;36m2\u001b[0m\u001b[0;34m]\u001b[0m\u001b[0;34m,\u001b[0m \u001b[0;34m[\u001b[0m\u001b[0;36m3\u001b[0m\u001b[0;34m,\u001b[0m \u001b[0;36m4\u001b[0m\u001b[0;34m,\u001b[0m \u001b[0;36m5\u001b[0m\u001b[0;34m]\u001b[0m\u001b[0;34m,\u001b[0m \u001b[0;36m6\u001b[0m\u001b[0;34m]\u001b[0m\u001b[0;34m)\u001b[0m\u001b[0;34m\u001b[0m\u001b[0m\n",
      "\u001b[0;31mUnboundLocalError\u001b[0m: local variable 'x' referenced before assignment"
     ]
    }
   ],
   "source": [
    "add = 10\n",
    "\n",
    "def addlist(lists):\n",
    "    \"\"\"\n",
    "    Add lists of lists, recursively\n",
    "    the result is global\n",
    "    \"\"\"\n",
    "    global add\n",
    "    \n",
    "    for item in lists:\n",
    "        if isinstance(item, list): # If item type is list\n",
    "            addlist(item)\n",
    "            x = 100\n",
    "        else:\n",
    "            add += item\n",
    "            \n",
    "        print(x)\n",
    "\n",
    "addlist([[1, 2], [3, 4, 5], 6])\n",
    "\n",
    "print(add)"
   ]
  },
  {
   "cell_type": "markdown",
   "metadata": {},
   "source": [
    "Using global variables is not considered a good development practice, as they make the system harder to understand, so it is better to avoid their use. The same applies to overshadowing variables."
   ]
  },
  {
   "cell_type": "markdown",
   "metadata": {},
   "source": [
    "# Python Naming Conventions\n",
    "\n",
    "## General\n",
    "\n",
    "* Avoid using names that are too general or too wordy. Strike a good balance between the two.\n",
    "* Bad: data_structure, my_list, info_map, dictionary_for_the_purpose_of_storing_data_representing_word_definitions\n",
    "* Good: user_profile, menu_options, word_definitions\n",
    "* Don’t be a jackass and name things “O”, “l”, or “I”\n",
    "* When using CamelCase names, capitalize all letters of an abbreviation (e.g. HTTPServer)\n",
    "\n",
    "## Packages\n",
    "\n",
    "* Package names should be all lower case\n",
    "* When multiple words are needed, an underscore should separate them\n",
    "* It is usually preferable to stick to 1 word names\n",
    "\n",
    "## Modules\n",
    "\n",
    "* Module names should be all lower case\n",
    "* When multiple words are needed, an underscore should separate them\n",
    "* It is usually preferable to stick to 1 word names\n",
    "\n",
    "## Classes\n",
    "\n",
    "* Class names should follow the UpperCaseCamelCase convention\n",
    "* Python’s built-in classes, however are typically lowercase words\n",
    "* Exception classes should end in “Error”\n",
    "\n",
    "## Global (module-level) Variables\n",
    "\n",
    "* Global variables should be all lowercase\n",
    "* Words in a global variable name should be separated by an underscore\n",
    "\n",
    "## Instance Variables\n",
    "\n",
    "* Instance variable names should be all lower case\n",
    "* Words in an instance variable name should be separated by an underscore\n",
    "* Non-public instance variables should begin with a single underscore\n",
    "* If an instance name needs to be mangled, two underscores may begin its name\n",
    "\n",
    "## Methods\n",
    "\n",
    "* Method names should be all lower case\n",
    "* Words in an method name should be separated by an underscore\n",
    "* Non-public method should begin with a single underscore\n",
    "* If a method name needs to be mangled, two underscores may begin its name\n",
    "\n",
    "## Method Arguments\n",
    "\n",
    "* Instance methods should have their first argument named ‘self’.\n",
    "* Class methods should have their first argument named ‘cls’\n",
    "\n",
    "## Functions\n",
    "\n",
    "* Function names should be all lower case\n",
    "* Words in a function name should be separated by an underscore\n",
    "\n",
    "## Constants\n",
    "\n",
    "* Constant names must be fully capitalized\n",
    "* Words in a constant name should be separated by an underscore"
   ]
  },
  {
   "cell_type": "markdown",
   "metadata": {},
   "source": [
    "## Meaning of underscores\n",
    "\n",
    "Single or double underscores at the beginning and/or at the end of names have special meanings in Python:\n",
    "\n",
    "* **`_single_leading_underscore`**: Weak “internal use” indicator. For example, from M import * does not import objects whose name starts with an underscore.\n",
    "\n",
    "* **`single_trailing_underscore_`**: Used by convention to avoid conflicts with Python keyword, e.g. class_ instead of class.\n",
    "\n",
    "* **`__double_leading_underscore`**: When naming a class attribute, invokes name mangling (inside class `FooBar, __boo becomes _FooBar__boo`)\n",
    "\n",
    "* **`__double_leading_and_trailing_underscore__`**: “Magic” objects or attributes that live in user-controlled namespaces. E.g. `__init__, __import__ or __file__`. Never invent such names; only use them as documented."
   ]
  },
  {
   "cell_type": "code",
   "execution_count": null,
   "metadata": {
    "collapsed": true
   },
   "outputs": [],
   "source": []
  }
 ],
 "metadata": {
  "anaconda-cloud": {},
  "kernelspec": {
   "display_name": "Python 3",
   "language": "python",
   "name": "python3"
  },
  "language_info": {
   "codemirror_mode": {
    "name": "ipython",
    "version": 3
   },
   "file_extension": ".py",
   "mimetype": "text/x-python",
   "name": "python",
   "nbconvert_exporter": "python",
   "pygments_lexer": "ipython3",
   "version": "3.6.1"
  }
 },
 "nbformat": 4,
 "nbformat_minor": 1
}
