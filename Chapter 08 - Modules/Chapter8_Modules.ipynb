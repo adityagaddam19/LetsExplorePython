{
 "cells": [
  {
   "cell_type": "markdown",
   "metadata": {},
   "source": [
    "Chapter 8: Modules\n",
    "=============================\n",
    "_____________________________\n",
    "For Python, modules are source files that can be imported into a program. They can contain any Python structure and **run when <span class=\"note\" title=\"If it is necessary to run the module again during the execution of the application, it will have to be loaded again with the reload () function.\">imported</span>**. They are compiled when first imported and stored in a file (with the extension \".pyc\" or \".pyo\"), have their own *namespaces*  and support *Doc Strings*. They are singleton objects (only one instance is loaded into memory, which is available globally for the program).\n",
    "\n",
    "![Modules](files/bpyfd_diags6.png)\n",
    "\n",
    "The modules are located by the interpreter through the list of folders `PYTHONPATH` (sys.path), which usually includes the current directory first.\n",
    "\n",
    "The modules are loaded with the `import` statement. Thus, when using a module structure, it is necessary to identify the module. This is called absolute import."
   ]
  },
  {
   "cell_type": "code",
   "execution_count": 4,
   "metadata": {},
   "outputs": [
    {
     "name": "stdout",
     "output_type": "stream",
     "text": [
      "<class 'str'>\n"
     ]
    }
   ],
   "source": [
    "import os\n",
    "print(type(os.name))"
   ]
  },
  {
   "cell_type": "markdown",
   "metadata": {},
   "source": [
    "You can also import modules with relative form:"
   ]
  },
  {
   "cell_type": "code",
   "execution_count": 3,
   "metadata": {},
   "outputs": [
    {
     "name": "stdout",
     "output_type": "stream",
     "text": [
      "<class 'str'>\n"
     ]
    }
   ],
   "source": [
    "from os import name\n",
    "print (type(name))"
   ]
  },
  {
   "cell_type": "markdown",
   "metadata": {},
   "source": [
    "> **NOTE**: To avoid problems such as variable obfuscation, the absolute import is considered a better programming practice than the relative import.\n",
    "\n",
    "Example of module:"
   ]
  },
  {
   "cell_type": "code",
   "execution_count": 5,
   "metadata": {
    "collapsed": true
   },
   "outputs": [],
   "source": [
    "# File calc.py\n",
    "\n",
    "# Function defined in module\n",
    "def average(list): return float(sum(list)) / len(list)"
   ]
  },
  {
   "cell_type": "markdown",
   "metadata": {},
   "source": [
    "Example of module usage:"
   ]
  },
  {
   "cell_type": "code",
   "execution_count": 6,
   "metadata": {},
   "outputs": [
    {
     "name": "stdout",
     "output_type": "stream",
     "text": [
      "38.5\n"
     ]
    }
   ],
   "source": [
    "# Imports calc module\n",
    "import calc\n",
    "\n",
    "l = [23, 54, 31, 77, 12, 34]\n",
    "\n",
    "# Calls the function defined in calc\n",
    "print (calc.average(l))"
   ]
  },
  {
   "cell_type": "markdown",
   "metadata": {},
   "source": [
    "The main module of a program has the variable `__name__` equals to `__main__`, thus it is possible to test if the main module:"
   ]
  },
  {
   "cell_type": "code",
   "execution_count": 7,
   "metadata": {
    "collapsed": true
   },
   "outputs": [],
   "source": [
    "if __name__ == \"__main__\":\n",
    "    # Code here will only be run \n",
    "    # if it is the main module\n",
    "    # and not when it is imported by another program\n",
    "    pass"
   ]
  },
  {
   "cell_type": "markdown",
   "metadata": {},
   "source": [
    "That way it is easy to turn a program into a module.\n",
    "\n",
    "Another module example:"
   ]
  },
  {
   "cell_type": "code",
   "execution_count": 7,
   "metadata": {
    "collapsed": true
   },
   "outputs": [],
   "source": [
    "\"\"\"\n",
    "modutils => utility routines for modules\n",
    "\"\"\"\n",
    "\n",
    "import os.path\n",
    "import sys\n",
    "import glob\n",
    "\n",
    "def find(txt):\n",
    "    \"\"\"find modules with name containing the parameter.\"\"\"\n",
    "\n",
    "    resp = []\n",
    "\n",
    "    for path in sys.path:\n",
    "        mods = glob.glob('%s/*.py' % path)\n",
    "\n",
    "        for mod in mods:\n",
    "            if txt in os.path.basename(mod):\n",
    "                resp.append(mod)\n",
    "\n",
    "    return resp"
   ]
  },
  {
   "cell_type": "markdown",
   "metadata": {},
   "source": [
    "Example module use:"
   ]
  },
  {
   "cell_type": "code",
   "execution_count": 9,
   "metadata": {},
   "outputs": [
    {
     "name": "stdout",
     "output_type": "stream",
     "text": [
      "Valid attributes of module:  ['__builtins__', '__cached__', '__doc__', '__file__', '__loader__', '__name__', '__package__', '__spec__', 'find', 'glob', 'os', 'sys']\n",
      "/home/mayank/apps/python/lib/python3.5/os.py: (36.103515625 kbytes, Fri Oct 21 10:14:28 2016)\n",
      "/home/mayank/apps/python/lib/python3.5/posixpath.py: (14.5322265625 kbytes, Fri Oct 21 10:14:28 2016)\n",
      "/home/mayank/apps/python/lib/python3.5/_osx_support.py: (18.66015625 kbytes, Fri Oct 21 10:14:27 2016)\n",
      "/home/mayank/apps/python/lib/python3.5/site-packages/test_pycosat.py: (8.650390625 kbytes, Wed Dec  4 11:22:39 2013)\n",
      "/home/mayank/apps/python/lib/python3.5/site-packages/ecos.py: (2.3349609375 kbytes, Thu Sep 10 21:02:58 2015)\n"
     ]
    }
   ],
   "source": [
    "from os.path import getsize, getmtime\n",
    "from time import localtime, asctime\n",
    "\n",
    "import modutils\n",
    "\n",
    "mods = modutils.find('os')\n",
    "print(\"Valid attributes of module: \", dir(modutils))\n",
    "for mod in mods:\n",
    "    tm = asctime(localtime(getmtime(mod)))\n",
    "    kb = getsize(mod) / 1024\n",
    "    print ('{0}: ({1} kbytes, {2})'.format(mod, kb, tm))"
   ]
  },
  {
   "cell_type": "markdown",
   "metadata": {},
   "source": [
    "> _TIP_: Splitting programs into modules makes it easy to reuse and locate faults in the code."
   ]
  }
 ],
 "metadata": {
  "kernelspec": {
   "display_name": "Python 3",
   "language": "python",
   "name": "python3"
  },
  "language_info": {
   "codemirror_mode": {
    "name": "ipython",
    "version": 3
   },
   "file_extension": ".py",
   "mimetype": "text/x-python",
   "name": "python",
   "nbconvert_exporter": "python",
   "pygments_lexer": "ipython3",
   "version": "3.6.1"
  }
 },
 "nbformat": 4,
 "nbformat_minor": 1
}
