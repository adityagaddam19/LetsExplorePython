{
 "cells": [
  {
   "cell_type": "markdown",
   "metadata": {},
   "source": [
    "# 2.4 Code Introspection\n",
    "-----\n",
    "\n",
    "    help()\n",
    "    dir() \n",
    "    hasattr() \n",
    "    id() \n",
    "    type() \n",
    "    repr() \n",
    "    callable() \n",
    "    issubclass() \n",
    "    isinstance() \n",
    "    __doc__ \n",
    "    __name__"
   ]
  }
 ],
 "metadata": {
  "kernelspec": {
   "display_name": "Python 3",
   "language": "python",
   "name": "python3"
  },
  "language_info": {
   "codemirror_mode": {
    "name": "ipython",
    "version": 3
   },
   "file_extension": ".py",
   "mimetype": "text/x-python",
   "name": "python",
   "nbconvert_exporter": "python",
   "pygments_lexer": "ipython3",
   "version": "3.6.1"
  }
 },
 "nbformat": 4,
 "nbformat_minor": 2
}
