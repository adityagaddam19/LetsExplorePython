{
 "cells": [
  {
   "cell_type": "markdown",
   "metadata": {},
   "source": [
    "# Decorators\n",
    "---\n",
    "## ONLY AFTER FP\n",
    "A decorator is the name used for a software design pattern. Decorators dynamically alter the functionality of a function, method, or class without having to directly use subclasses or change the source code of the function being decorated.\n",
    "\n",
    "Python decorator is a specific change to the Python syntax that allows us to more conveniently alter functions and methods (and possibly classes in a future version). This supports more readable applications of the DecoratorPattern but also other uses as well."
   ]
  },
  {
   "cell_type": "code",
   "execution_count": null,
   "metadata": {
    "collapsed": true
   },
   "outputs": [],
   "source": []
  },
  {
   "cell_type": "code",
   "execution_count": 1,
   "metadata": {
    "collapsed": false
   },
   "outputs": [
    {
     "name": "stdout",
     "output_type": "stream",
     "text": [
      "</''''''\\>\n",
      "#tomatoes#\n",
      "--Say Cheese--\n",
      "~salad~\n",
      "<\\______/>\n"
     ]
    }
   ],
   "source": [
    "def bread(test_funct):\n",
    "    def inner():\n",
    "        print(\"</''''''\\>\")\n",
    "        test_funct()\n",
    "        print(\"<\\______/>\")\n",
    "    return inner\n",
    "\n",
    "def ingredients(test_funct):\n",
    "    def inner():\n",
    "        print(\"#tomatoes#\")\n",
    "        test_funct()\n",
    "        print(\"~salad~\")\n",
    "    return inner\n",
    "\n",
    "def Cheese(food=\"--Say Cheese--\"):\n",
    "    print(food)\n",
    "\n",
    "# sandwich()\n",
    "test = bread(ingredients(Cheese))\n",
    "test()"
   ]
  },
  {
   "cell_type": "code",
   "execution_count": 2,
   "metadata": {
    "collapsed": false
   },
   "outputs": [
    {
     "name": "stdout",
     "output_type": "stream",
     "text": [
      "</''''''\\>\n",
      "#tomatoes#\n",
      "--Say Cheese--\n",
      "~salad~\n",
      "<\\______/>\n"
     ]
    }
   ],
   "source": [
    "@bread\n",
    "@ingredients\n",
    "def sandwich(food=\"--Say Cheese--\"):\n",
    "    print(food)\n",
    "\n",
    "sandwich()"
   ]
  },
  {
   "cell_type": "markdown",
   "metadata": {},
   "source": [
    "> ***!!! Order Matters !!!*** "
   ]
  },
  {
   "cell_type": "code",
   "execution_count": 3,
   "metadata": {
    "collapsed": false
   },
   "outputs": [
    {
     "name": "stdout",
     "output_type": "stream",
     "text": [
      "#tomatoes#\n",
      "</''''''\\>\n",
      "--Say Cheese--\n",
      "<\\______/>\n",
      "~salad~\n"
     ]
    }
   ],
   "source": [
    "@ingredients\n",
    "@bread\n",
    "def sandwich(food=\"--Say Cheese--\"):\n",
    "    print(food)\n",
    "\n",
    "sandwich()"
   ]
  },
  {
   "cell_type": "code",
   "execution_count": 5,
   "metadata": {
    "collapsed": false
   },
   "outputs": [
    {
     "name": "stdout",
     "output_type": "stream",
     "text": [
      "</''''''\\>\n",
      "#tomatoes#\n",
      "Jam\n",
      "~salad~\n",
      "<\\______/>\n"
     ]
    }
   ],
   "source": [
    "@bread\n",
    "@ingredients\n",
    "def hotdog(food=\"Jam\"):\n",
    "    print(food)\n",
    "\n",
    "hotdog()"
   ]
  },
  {
   "cell_type": "code",
   "execution_count": null,
   "metadata": {
    "collapsed": true
   },
   "outputs": [],
   "source": []
  },
  {
   "cell_type": "markdown",
   "metadata": {
    "collapsed": true
   },
   "source": [
    "## Bound methods\n",
    "---\n",
    "\n",
    "Unless you tell it not to, Python will create what is called a bound method when a function is an attribute of a class and you access it via an instance of a class. This may sound complicated but it does exactly what you want."
   ]
  },
  {
   "cell_type": "code",
   "execution_count": 22,
   "metadata": {
    "collapsed": false
   },
   "outputs": [
    {
     "data": {
      "text/plain": [
       "<bound method A.method of <__main__.A object at 0x00000234D70DB8D0>>"
      ]
     },
     "execution_count": 22,
     "metadata": {},
     "output_type": "execute_result"
    }
   ],
   "source": [
    "class A(object):\n",
    "    def method(*argv):\n",
    "        return argv\n",
    "a = A()\n",
    "a.method\n"
   ]
  },
  {
   "cell_type": "code",
   "execution_count": 23,
   "metadata": {
    "collapsed": false
   },
   "outputs": [
    {
     "data": {
      "text/plain": [
       "(<__main__.A at 0x234d70db8d0>, 'an arg')"
      ]
     },
     "execution_count": 23,
     "metadata": {},
     "output_type": "execute_result"
    }
   ],
   "source": [
    "a.method('an arg')"
   ]
  },
  {
   "cell_type": "markdown",
   "metadata": {},
   "source": [
    "### staticmethod()\n",
    "\n",
    "A static method is a way of suppressing the creation of a bound method when accessing a function."
   ]
  },
  {
   "cell_type": "code",
   "execution_count": 24,
   "metadata": {
    "collapsed": false
   },
   "outputs": [
    {
     "data": {
      "text/plain": [
       "<function __main__.A.method>"
      ]
     },
     "execution_count": 24,
     "metadata": {},
     "output_type": "execute_result"
    }
   ],
   "source": [
    "class A(object):\n",
    "    @staticmethod\n",
    "    def method(*argv):\n",
    "        return argv\n",
    "a = A()\n",
    "a.method"
   ]
  },
  {
   "cell_type": "markdown",
   "metadata": {},
   "source": [
    "When we call a static method we don’t get any additional arguments."
   ]
  },
  {
   "cell_type": "code",
   "execution_count": 25,
   "metadata": {
    "collapsed": false
   },
   "outputs": [
    {
     "data": {
      "text/plain": [
       "('an arg',)"
      ]
     },
     "execution_count": 25,
     "metadata": {},
     "output_type": "execute_result"
    }
   ],
   "source": [
    "a.method('an arg')"
   ]
  },
  {
   "cell_type": "markdown",
   "metadata": {},
   "source": [
    "### classmethod\n",
    "\n",
    "A class method is like a bound method except that the class of the instance is passed as an argument rather than the instance itself."
   ]
  },
  {
   "cell_type": "code",
   "execution_count": 12,
   "metadata": {
    "collapsed": false
   },
   "outputs": [
    {
     "data": {
      "text/plain": [
       "<bound method A.method of <class '__main__.A'>>"
      ]
     },
     "execution_count": 12,
     "metadata": {},
     "output_type": "execute_result"
    }
   ],
   "source": [
    "class A(object):\n",
    "    @classmethod\n",
    "    def method(*argv):\n",
    "        return argv\n",
    "a = A()\n",
    "a.method"
   ]
  },
  {
   "cell_type": "code",
   "execution_count": 2,
   "metadata": {
    "collapsed": false
   },
   "outputs": [
    {
     "ename": "NameError",
     "evalue": "name 'a' is not defined",
     "output_type": "error",
     "traceback": [
      "\u001b[0;31m---------------------------------------------------------------------------\u001b[0m",
      "\u001b[0;31mNameError\u001b[0m                                 Traceback (most recent call last)",
      "\u001b[0;32m<ipython-input-2-20893a9a85d6>\u001b[0m in \u001b[0;36m<module>\u001b[0;34m()\u001b[0m\n\u001b[0;32m----> 1\u001b[0;31m \u001b[0ma\u001b[0m\u001b[1;33m.\u001b[0m\u001b[0mmethod\u001b[0m\u001b[1;33m(\u001b[0m\u001b[1;34m'an arg'\u001b[0m\u001b[1;33m)\u001b[0m\u001b[1;33m\u001b[0m\u001b[0m\n\u001b[0m",
      "\u001b[0;31mNameError\u001b[0m: name 'a' is not defined"
     ]
    }
   ],
   "source": [
    "a.method('an arg')"
   ]
  },
  {
   "cell_type": "code",
   "execution_count": 7,
   "metadata": {
    "collapsed": false
   },
   "outputs": [
    {
     "name": "stdout",
     "output_type": "stream",
     "text": [
      "Ja\n",
      "Name:  Mayank\n"
     ]
    }
   ],
   "source": [
    "def test(strg):\n",
    "    print(\"Name: \", strg)\n",
    "    \n",
    "def hello(func, name):\n",
    "    print(\"Ja\")\n",
    "    func(name)\n",
    "    \n",
    "hello(test, \"Mayank\")"
   ]
  },
  {
   "cell_type": "code",
   "execution_count": null,
   "metadata": {
    "collapsed": true
   },
   "outputs": [],
   "source": []
  }
 ],
 "metadata": {
  "anaconda-cloud": {},
  "kernelspec": {
   "display_name": "Python 3",
   "language": "python",
   "name": "python3"
  },
  "language_info": {
   "codemirror_mode": {
    "name": "ipython",
    "version": 3
   },
   "file_extension": ".py",
   "mimetype": "text/x-python",
   "name": "python",
   "nbconvert_exporter": "python",
   "pygments_lexer": "ipython3",
   "version": "3.6.0"
  }
 },
 "nbformat": 4,
 "nbformat_minor": 0
}
