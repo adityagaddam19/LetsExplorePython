{
 "cells": [
  {
   "cell_type": "markdown",
   "metadata": {},
   "source": [
    "## Chapter 10 : Standard Library\n",
    "_____________________________\n",
    "It's often said that Python comes with **\"batteries included\"**, in reference to the vast library of modules and packages that are distributed with the interpreter.\n",
    "\n",
    "Some important modules of the standard library:\n",
    "+ Math: math, cmath, and random decimal.\n",
    "+ System: os, glob, subprocess and shutils.\n",
    "+ Threads: threading.\n",
    "+ Persistence: pickle and cPickle.\n",
    "+ XML: xml.dom, xml.sax and ElementTree (since version 2.5).\n",
    "+ Configuration: ConfigParser and optparse.\n",
    "+ Time: time and datetime.\n",
    "+ Other: sys, logging, traceback, types and timeit.\n",
    "\n",
    "Maths\n",
    "----------\n",
    "In addition to the *builtin* numeric types in the Python standard library, there are several modules devoted to implementing other types and mathematical operations.\n",
    "\n",
    "The *math* module defines logarithmic, exponentiation, trigonometric, and hyperbolic functions, as well as angular conversions and more. The *cmath* module implements similar functions, but can handle complex numbers.\n",
    "\n",
    "Example:"
   ]
  },
  {
   "cell_type": "code",
   "execution_count": 49,
   "metadata": {},
   "outputs": [
    {
     "name": "stdout",
     "output_type": "stream",
     "text": [
      "Complex: 3j\n",
      "Polar: (3.0, 1.5707963267948966) (in radians)\n",
      "Amplitude: 3.0\n",
      "Angle: 90.0 (grades)\n",
      "Complex: (1.5+1j)\n",
      "Polar: (1.8027756377319946, 0.5880026035475675) (in radians)\n",
      "Amplitude: 1.8027756377319946\n",
      "Angle: 33.690067525979785 (grades)\n",
      "Complex: (-2-2j)\n",
      "Polar: (2.8284271247461903, -2.356194490192345) (in radians)\n",
      "Amplitude: 2.8284271247461903\n",
      "Angle: -135.0 (grades)\n"
     ]
    }
   ],
   "source": [
    "import math\n",
    "\n",
    "import cmath\n",
    "\n",
    "# Complex\n",
    "for cpx in [3j, 1.5 + 1j, -2 - 2j]:\n",
    "\n",
    "    # Polar coordinate conversion\n",
    "    plr = cmath.polar(cpx)\n",
    "    print ('Complex:', cpx)\n",
    "    print ('Polar:', plr, '(in radians)')\n",
    "    print ('Amplitude:', abs(cpx))\n",
    "    print ('Angle:', math.degrees(plr[1]), '(grades)')"
   ]
  },
  {
   "cell_type": "markdown",
   "metadata": {},
   "source": [
    "The *random* module brings functions for random number generation.\n",
    "\n",
    "Examples:"
   ]
  },
  {
   "cell_type": "code",
   "execution_count": 7,
   "metadata": {},
   "outputs": [
    {
     "name": "stdout",
     "output_type": "stream",
     "text": [
      "G\n",
      "78\n",
      "58.707671513360374\n"
     ]
    }
   ],
   "source": [
    "import random\n",
    "import string\n",
    "\n",
    "# Choose a letter\n",
    "# print (string.ascii_uppercase)\n",
    "# print(help(random))\n",
    "print (random.choice(string.ascii_uppercase))\n",
    "\n",
    "\n",
    "\n",
    "# Choose a number from 1 to 10\n",
    "x = random.randrange(1, 100)\n",
    "print (x)\n",
    "\n",
    "# Choose a float from 0 to 1\n",
    "print (random.random()*100)"
   ]
  },
  {
   "cell_type": "code",
   "execution_count": 8,
   "metadata": {},
   "outputs": [
    {
     "name": "stdout",
     "output_type": "stream",
     "text": [
      "{'a': 59, 'b': 49, 'c': 53, 'e': 4}\n"
     ]
    }
   ],
   "source": [
    "lst = [\"a\", \"b\", \"c\", \"e\"]\n",
    "dirs ={}\n",
    "\n",
    "for  l in lst:\n",
    "    dirs[l] = random.randrange(1, 100)\n",
    "\n",
    "print(dirs)"
   ]
  },
  {
   "cell_type": "markdown",
   "metadata": {},
   "source": [
    "In the standard library there is the decimal module that defines operations with real numbers with fixed precision.\n",
    "\n",
    "Example:"
   ]
  },
  {
   "cell_type": "code",
   "execution_count": 51,
   "metadata": {},
   "outputs": [
    {
     "name": "stdout",
     "output_type": "stream",
     "text": [
      "Float: 1.0269562977782698e-15\n",
      "Decimal: 0.0\n"
     ]
    }
   ],
   "source": [
    "from decimal import Decimal\n",
    "\n",
    "t = 5.\n",
    "for i in range(50):\n",
    "    t = t - 0.1\n",
    "\n",
    "print ('Float:', t)\n",
    "\n",
    "t = Decimal('5.')\n",
    "for i in range(50):\n",
    "    t = t - Decimal('0.1')\n",
    "\n",
    "print ('Decimal:', t)"
   ]
  },
  {
   "cell_type": "markdown",
   "metadata": {},
   "source": [
    "With this module, it is possible to reduce the introduction of rounding errors arising from floating point arithmetic.\n",
    "\n",
    "In version 2.6, the module *fractions*, which deals with rational numbers,  is also available.\n",
    "\n",
    "Example:"
   ]
  },
  {
   "cell_type": "code",
   "execution_count": 52,
   "metadata": {},
   "outputs": [
    {
     "name": "stdout",
     "output_type": "stream",
     "text": [
      "Fraction('-2/3') = -2/3\n",
      "Fraction('3, 4') = 3/4\n",
      "Fraction('.25') = 1/4\n",
      "-2/3 + 3/4 = 1/12\n",
      "3/4 + 1/4 = 1\n"
     ]
    }
   ],
   "source": [
    "from fractions import Fraction\n",
    "\n",
    "# Three fractions\n",
    "f1 = Fraction('-2/3')\n",
    "f2 = Fraction(3, 4)\n",
    "f3 = Fraction('.25')\n",
    "print (\"Fraction('-2/3') =\", f1)\n",
    "print (\"Fraction('3, 4') =\", f2)\n",
    "print (\"Fraction('.25') =\", f3)\n",
    "\n",
    "# Sum\n",
    "print (f1, '+', f2, '=', f1 + f2)\n",
    "print (f2, '+', f3, '=', f2 + f3)"
   ]
  },
  {
   "cell_type": "markdown",
   "metadata": {},
   "source": [
    "Fractions can be initialized in several ways: as a *string*, as a pair of integers, or as a real number. The module also has a function called `gcd()` which calculates the greatest common divisor (gcd) of two integers.\n",
    "\n",
    "Files and I/O\n",
    "--------------\n",
    "Files in Python are represented by objects of type <span class=\"note\" title=\"the reference open points to file\">*file*</span>, which offer various methods for file operations. Files can be opened for reading ('r', which is the default), writing ('w'), or appending ('a'), in text or binary ('b') mode.\n",
    "\n",
    "In Python:\n",
    "\n",
    "+ *sys.stdin* is the standard input.\n",
    "+ *sys.stdout* is the standard output.\n",
    "+ *sys.stderr* is the standard error output.\n",
    "\n",
    "The standard input, output and error are handled by Python as open files. The input in read mode and the other in the recording mode.\n",
    "\n",
    "Sample of writing:"
   ]
  },
  {
   "cell_type": "code",
   "execution_count": 10,
   "metadata": {},
   "outputs": [
    {
     "name": "stdout",
     "output_type": "stream",
     "text": [
      "x\n",
      "000\n",
      "x\n",
      "001\n",
      "x\n",
      "002\n",
      "x\n",
      "003\n",
      "x\n",
      "004\n",
      "x\n",
      "005\n",
      "x\n",
      "006\n",
      "x\n",
      "007\n",
      "x\n",
      "008\n",
      "x\n",
      "009\n",
      "x\n",
      "010\n",
      "x\n",
      "011\n",
      "x\n",
      "012\n",
      "x\n",
      "013\n",
      "x\n",
      "014\n",
      "x\n",
      "015\n",
      "x\n",
      "016\n",
      "x\n",
      "017\n",
      "x\n",
      "018\n",
      "x\n",
      "019\n"
     ]
    }
   ],
   "source": [
    "# The old way .... the C,C++ etc way\n",
    "import sys\n",
    "\n",
    "# Create an object of type file\n",
    "temp = open('temp.txt', 'w')\n",
    "\n",
    "# Write output\n",
    "for i in range(20):\n",
    "    temp.write('%03d\\n' % i)\n",
    "\n",
    "temp.close()\n",
    "\n",
    "temp = open('temp.txt')\n",
    "temp1 = open('temp1.txt')\n",
    "\n",
    "# Write in terminal\n",
    "for x in temp:\n",
    "    # writing in sys.stdout sends\n",
    "    # text to standard output\n",
    "    print(\"x\")\n",
    "    sys.stdout.write(x)\n",
    "    temp1.write(x)\n",
    "\n",
    "temp.close()\n",
    "temp1.close()"
   ]
  },
  {
   "cell_type": "code",
   "execution_count": 54,
   "metadata": {},
   "outputs": [
    {
     "name": "stdout",
     "output_type": "stream",
     "text": [
      "000\n",
      "001\n",
      "002\n",
      "003\n",
      "004\n",
      "005\n",
      "006\n",
      "007\n",
      "008\n",
      "009\n",
      "010\n",
      "011\n",
      "012\n",
      "013\n",
      "014\n",
      "015\n",
      "016\n",
      "017\n",
      "018\n",
      "019\n"
     ]
    }
   ],
   "source": [
    "#  Python way\n",
    "import sys\n",
    "\n",
    "# Create an object of type file\n",
    "with open('temp.txt', 'w') as temp:\n",
    "    # Write output\n",
    "    for i in range(20):\n",
    "        temp.write('%03d\\n' % i)\n",
    "# temp.close()\n",
    "\n",
    "with open('temp.txt') as temp:\n",
    "    # Write in terminal\n",
    "    for x in temp:\n",
    "        # writing in sys.stdout sends\n",
    "        # text to standard output\n",
    "        sys.stdout.write(x)\n",
    "\n",
    "#temp.close()"
   ]
  },
  {
   "cell_type": "code",
   "execution_count": 1,
   "metadata": {},
   "outputs": [],
   "source": [
    "# print(help(open))"
   ]
  },
  {
   "cell_type": "markdown",
   "metadata": {},
   "source": [
    "At each iteration in the second loop, the object returns a line from the file each time.\n",
    "\n",
    "Reading example:"
   ]
  },
  {
   "cell_type": "code",
   "execution_count": 15,
   "metadata": {},
   "outputs": [
    {
     "name": "stdout",
     "output_type": "stream",
     "text": [
      "Try again...\n"
     ]
    },
    {
     "ename": "SystemExit",
     "evalue": "0",
     "output_type": "error",
     "traceback": [
      "An exception has occurred, use %tb to see the full traceback.\n",
      "\u001b[1;31mSystemExit\u001b[0m\u001b[1;31m:\u001b[0m 0\n"
     ]
    },
    {
     "name": "stderr",
     "output_type": "stream",
     "text": [
      "C:\\apps\\WinPython-64bit-3.6.1.0Qt5\\python-3.6.1.amd64\\lib\\site-packages\\IPython\\core\\interactiveshell.py:2889: UserWarning: To exit: use 'exit', 'quit', or Ctrl-D.\n",
      "  warn(\"To exit: use 'exit', 'quit', or Ctrl-D.\", stacklevel=1)\n"
     ]
    }
   ],
   "source": [
    "import sys\n",
    "import os.path\n",
    "\n",
    "fn = 'temp2.txt'\n",
    "\n",
    "if not os.path.exists(fn):\n",
    "    print ('Try again...')\n",
    "    sys.exit(0)\n",
    "\n",
    "# Numbering lines\n",
    "for i, s in enumerate(open(fn)):\n",
    "    print (i + 1, s),"
   ]
  },
  {
   "cell_type": "markdown",
   "metadata": {},
   "source": [
    "It is possible to read all the lines with the method `readlines()`:"
   ]
  },
  {
   "cell_type": "code",
   "execution_count": 4,
   "metadata": {},
   "outputs": [
    {
     "name": "stdout",
     "output_type": "stream",
     "text": [
      "['000\\n', '001\\n', '002\\n', '003\\n', '004\\n', '005\\n', '006\\n', '007\\n', '008\\n', '009\\n', '010\\n', '011\\n', '012\\n', '013\\n', '014\\n', '015\\n', '016\\n', '017\\n', '018\\n', '019\\n']\n"
     ]
    }
   ],
   "source": [
    "# Prints a list with all the lines from a file\n",
    "print (open('temp.txt').readlines())"
   ]
  },
  {
   "cell_type": "code",
   "execution_count": 3,
   "metadata": {},
   "outputs": [
    {
     "name": "stdout",
     "output_type": "stream",
     "text": [
      "20\n",
      "80\n"
     ]
    }
   ],
   "source": [
    "\n",
    "print (len(open('temp.txt').readlines())) # 20\n",
    "print(len(open('temp.txt').read())) # 4x20"
   ]
  },
  {
   "cell_type": "markdown",
   "metadata": {},
   "source": [
    "File Systems\n",
    "-------------------\n",
    "Modern operating systems store files in hierarchical structures called *file systems*.\n",
    "\n",
    "Several features related to file systems are implemented in the module *os.path*, such as: \n",
    "\n",
    "+ `os.path.basename()`: returns the final component of a path.\n",
    "+ `os.path.dirname()`: returns a path without the final component.\n",
    "+ `os.path.exists()`: returns *True* if the path exists or *False* otherwise.\n",
    "+ `os.path.getsize()`: returns the size of the file in *bytes*.\n",
    "\n",
    "*glob* is another module related to the file system:"
   ]
  },
  {
   "cell_type": "code",
   "execution_count": 5,
   "metadata": {},
   "outputs": [],
   "source": [
    "# print(help(os.path))"
   ]
  },
  {
   "cell_type": "code",
   "execution_count": 31,
   "metadata": {
    "scrolled": false
   },
   "outputs": [
    {
     "name": "stdout",
     "output_type": "stream",
     "text": [
      "c:\\users\\mayank\\warzone\\myprogram.conf\n",
      "('c:\\\\users\\\\mayank\\\\warzone', 'myprogram.conf')\n",
      "('c:\\\\users\\\\mayank\\\\warzone\\\\myprogram', '.conf')\n",
      "('c:', '\\\\users\\\\mayank\\\\warzone\\\\myprogram.conf')\n"
     ]
    }
   ],
   "source": [
    "import os.path \n",
    "\n",
    "a = r\"c:\\users\\mayank\"\n",
    "b = r\"warzone\\myprogram.conf\"\n",
    "c = os.path.join(a,b)\n",
    "print(c)\n",
    "print(os.path.split(c))\n",
    "print(os.path.splitext(c))\n",
    "print(os.path.splitdrive(c))\n"
   ]
  },
  {
   "cell_type": "code",
   "execution_count": 57,
   "metadata": {},
   "outputs": [
    {
     "name": "stdout",
     "output_type": "stream",
     "text": [
      "Chapter 10_Standard_library.ipynb 31449\n",
      "arq.zip 189\n",
      "arq1.zip 189\n",
      "dt.csv 70\n",
      "eggs.csv 77\n",
      "temp.txt 100\n"
     ]
    }
   ],
   "source": [
    "import os.path\n",
    "import glob\n",
    "\n",
    "# Shows a list of file names\n",
    "# and their respective sizes \n",
    "for arq in sorted(glob.glob('*.*')):\n",
    "    print (arq, os.path.getsize(arq))"
   ]
  },
  {
   "cell_type": "markdown",
   "metadata": {},
   "source": [
    "The *glob.glob()* function returns a list of filenames that meet the criteria passed as a parameter in a similar way to the `ls` command available on UNIX systems.\n",
    "\n",
    "Temporary files\n",
    "--------------------\n",
    "The module *os* implements some functions to facilitate the creation of temporary files, freeing the developer from some concerns, such as:\n",
    "\n",
    "+ Avoiding collisions with names of files that are in use.\n",
    "+ Identifying the appropriate area of the file system for temporary files (which varies by operating system).\n",
    "+ Not exposing the implementation risks (temporary area is used by other processes).\n",
    "\n",
    "Example:"
   ]
  },
  {
   "cell_type": "code",
   "execution_count": 6,
   "metadata": {},
   "outputs": [
    {
     "name": "stdout",
     "output_type": "stream",
     "text": [
      "created temporary directory C:\\Users\\johri_m\\AppData\\Local\\Temp\\tmp6t64qfxu\n"
     ]
    }
   ],
   "source": [
    "import tempfile\n",
    "\n",
    "# create a temporary file and write some data to it\n",
    "fp = tempfile.TemporaryFile()\n",
    "fp.write(b'Hello world!')\n",
    "# read data from file\n",
    "fp.seek(0)\n",
    "fp.read()\n",
    "\n",
    "# close the file, it will be removed\n",
    "fp.close()\n",
    "\n",
    "# create a temporary file using a context manager\n",
    "with tempfile.TemporaryFile() as fp:\n",
    "    fp.write(b'Hello world!')\n",
    "    fp.seek(0)\n",
    "    fp.read()\n",
    "\n",
    "# file is now closed and removed\n",
    "\n",
    "# create a temporary directory using the context manager\n",
    "with tempfile.TemporaryDirectory() as tmpdirname:\n",
    "    print('created temporary directory', tmpdirname)\n",
    "\n",
    "# directory and contents have been removed"
   ]
  },
  {
   "cell_type": "markdown",
   "metadata": {},
   "source": [
    "The objects of type file also have the method `seek()`, which allow going to any position in the file."
   ]
  },
  {
   "cell_type": "code",
   "execution_count": 7,
   "metadata": {},
   "outputs": [],
   "source": [
    "# print(help(type(fp)))"
   ]
  },
  {
   "cell_type": "markdown",
   "metadata": {},
   "source": [
    "There is also the `tempnam()` function, which returns a valid name for temporary file, including a path that respects the conventions of the operating system. However, it is up to the developer to ensure that the routine is used so as not to compromise the security of the application.\n",
    "\n",
    "Compressed files\n",
    "--------------------\n",
    "Python has modules to work with multiple formats of compressed files.\n",
    "\n",
    "Example of writing a \".zip\" file:"
   ]
  },
  {
   "cell_type": "code",
   "execution_count": 40,
   "metadata": {
    "collapsed": true
   },
   "outputs": [],
   "source": [
    "\"\"\"\n",
    "Writing text in a compressed file\n",
    "\"\"\"\n",
    "\n",
    "import zipfile\n",
    "\n",
    "text = \"\"\"\n",
    "**************************************\n",
    "This text will be compressed and ...\n",
    "... stored inside a zip file.\n",
    "***************************************\n",
    "\"\"\"\n",
    "\n",
    "# Creates a new zip\n",
    "zip = zipfile.ZipFile('arq1.zip', 'w',\n",
    "    zipfile.ZIP_DEFLATED)\n",
    "\n",
    "# Writes a string in zip as if it were a file\n",
    "zip.writestr('text.txt', text)\n",
    "zip.writestr('text1.txt', text)\n",
    "zip.writestr('text2.txt', text)\n",
    "# closes the zip\n",
    "zip.close()"
   ]
  },
  {
   "cell_type": "markdown",
   "metadata": {},
   "source": [
    "Reading example:"
   ]
  },
  {
   "cell_type": "code",
   "execution_count": 8,
   "metadata": {},
   "outputs": [
    {
     "name": "stdout",
     "output_type": "stream",
     "text": [
      "File: text.txt\n",
      "Original size: 147\n",
      "Compressed size: 75\n",
      "b'\\n**************************************\\nThis text will be compressed and ...\\n... stored inside a zip file.\\n***************************************\\n'\n",
      "File: text1.txt\n",
      "Original size: 147\n",
      "Compressed size: 75\n",
      "b'\\n**************************************\\nThis text will be compressed and ...\\n... stored inside a zip file.\\n***************************************\\n'\n",
      "File: text2.txt\n",
      "Original size: 147\n",
      "Compressed size: 75\n",
      "b'\\n**************************************\\nThis text will be compressed and ...\\n... stored inside a zip file.\\n***************************************\\n'\n"
     ]
    }
   ],
   "source": [
    "\"\"\"\n",
    "Reading a compressed file\n",
    "\"\"\"\n",
    "import zipfile\n",
    "\n",
    "# Open the zip file for reading \n",
    "zip = zipfile.ZipFile('arq1.zip')\n",
    "\n",
    "# Gets a list of compressed files\n",
    "arqs = zip.namelist()\n",
    "\n",
    "for arq in arqs:\n",
    "    # Shows the file name\n",
    "    print ('File:', arq)\n",
    "    # get file info\n",
    "    zipinfo = zip.getinfo(arq)\n",
    "    print ('Original size:', zipinfo.file_size)\n",
    "    print ('Compressed size:', zipinfo.compress_size)\n",
    "\n",
    "    # Shows file content\n",
    "    print (zip.read(arq))"
   ]
  },
  {
   "cell_type": "markdown",
   "metadata": {},
   "source": [
    "Python also provides modules for gzip, bzip2 and tar formats that are widely used in UNIX environments.\n",
    "\n",
    "Data file\n",
    "----------------\n",
    "In the standard library, Python also provides a module to simplify the processing of files in CSV (*Comma Separated Values*) format.\n",
    "\n",
    "In CSV format, the data is stored in text form, separated by commas, one record per line.\n",
    "\n",
    "Writing example:"
   ]
  },
  {
   "cell_type": "code",
   "execution_count": 44,
   "metadata": {
    "collapsed": true
   },
   "outputs": [],
   "source": [
    "import csv\n",
    "with open('eggs.csv', 'w', newline='') as csvfile:\n",
    "    spamwriter = csv.writer(csvfile, delimiter=',',\n",
    "                            quotechar='|', quoting=csv.QUOTE_MINIMAL)\n",
    "    spamwriter.writerow(['Spam'] * 5 + ['Baked Beans'])\n",
    "    spamwriter.writerow(['Spam', 'Lovely Spam', 'Wonderful Spam'])"
   ]
  },
  {
   "cell_type": "code",
   "execution_count": 49,
   "metadata": {
    "collapsed": true
   },
   "outputs": [],
   "source": [
    "lst = [[\"a\", \"a1\"], [\"b\", \"b1\"], [\"d\", \"d1 ,one\"], \"c\", \"f\" ]\n",
    "with open('list.csv', 'w', newline='') as csvfile:\n",
    "    listWriter = csv.writer(csvfile)\n",
    "    for l in lst:\n",
    "        listWriter.writerow(l)"
   ]
  },
  {
   "cell_type": "markdown",
   "metadata": {},
   "source": [
    "Reading example:"
   ]
  },
  {
   "cell_type": "code",
   "execution_count": 50,
   "metadata": {},
   "outputs": [
    {
     "name": "stdout",
     "output_type": "stream",
     "text": [
      "Spam,Spam,Spam,Spam,Spam,Baked, Beans\n",
      "Spam,Lovely, Spam,Wonderful, Spam\n"
     ]
    }
   ],
   "source": [
    "import csv\n",
    "\n",
    "with open(\"eggs.csv\", newline='') as csvfile:\n",
    "    for row in csv.reader(csvfile, delimiter=' ', quotechar='|'):\n",
    "        print(', '.join(row))"
   ]
  },
  {
   "cell_type": "markdown",
   "metadata": {},
   "source": [
    "The CSV format is supported by most spreadsheet and databases for data import and export.\n",
    "\n",
    "Operating System\n",
    "-------------------\n",
    "Apart from the file system, the modules of the standard library also provides access to other services provided by the operating system.\n",
    "\n",
    "Example:"
   ]
  },
  {
   "cell_type": "code",
   "execution_count": 63,
   "metadata": {},
   "outputs": [
    {
     "name": "stdout",
     "output_type": "stream",
     "text": [
      "User: johri_m\n",
      "plataform: Windows-10-10.0.10586-SP0\n",
      "Current dir: D:\\code\\LetsExplorePython\\Chapter 10 - Standard library\n",
      "Executable: python.exe\n",
      "Executable dir: C:\\apps\\WinPython-64bit-3.6.1.0Qt5\\python-3.6.1.amd64\n"
     ]
    }
   ],
   "source": [
    "import os\n",
    "import sys\n",
    "import platform\n",
    "\n",
    "def uid():\n",
    "    \"\"\"\n",
    "    uid() -> returns the current user identification\n",
    "    or None if not possible to identify\n",
    "    \"\"\"\n",
    "\n",
    "    # Ambient variables for each operating system\n",
    "    us = {'Windows': 'USERNAME',\n",
    "        'Linux': 'USER'}\n",
    "\n",
    "    u = us.get(platform.system())\n",
    "    return os.environ.get(u)\n",
    "\n",
    "print ('User:', uid())\n",
    "print ('plataform:', platform.platform())\n",
    "print ('Current dir:', os.path.abspath(os.curdir))\n",
    "exep, exef = os.path.split(sys.executable)\n",
    "print ('Executable:', exef)\n",
    "print ('Executable dir:', exep)"
   ]
  },
  {
   "cell_type": "markdown",
   "metadata": {},
   "source": [
    "Process execution example:"
   ]
  },
  {
   "cell_type": "code",
   "execution_count": 64,
   "metadata": {
    "collapsed": true
   },
   "outputs": [],
   "source": [
    "###################################\n",
    "### TODO ##########################\n",
    "###################################\n",
    "###################################\n",
    "###################################\n",
    "\n",
    "\n",
    "\n",
    "\n",
    "\n",
    "\n",
    "\n",
    "\n",
    "\n",
    "# import sys\n",
    "# from subprocess import Popen, PIPE\n",
    "\n",
    "# # ping\n",
    "# cmd = 'ping -c 1 '\n",
    "# # No Windows\n",
    "# if sys.platform == 'win32':\n",
    "#     cmd = 'ping -n 1 '\n",
    "\n",
    "# # Local just for testing\n",
    "# host = '127.0.0.1'\n",
    "\n",
    "# # Comunicates with another process\n",
    "# # a pipe with the command stdout\n",
    "# py = Popen(cmd + host, stdout=PIPE)\n",
    "\n",
    "# # Shows command output\n",
    "# print (py.stdout.read())"
   ]
  },
  {
   "cell_type": "markdown",
   "metadata": {},
   "source": [
    "The *subprocess* module provides a generic way of running processes with Popen() function which allows communication with the process through operating system pipes.\n",
    "\n",
    "Time\n",
    "-----\n",
    "Python has two modules to handle time:\n",
    "\n",
    "+ *Time*: implements functions that allow using the time generated by the system.\n",
    "+ *Datetime*: implements high-level types to perform date and time operations.\n",
    "\n",
    "Example with time:"
   ]
  },
  {
   "cell_type": "code",
   "execution_count": 52,
   "metadata": {},
   "outputs": [
    {
     "name": "stdout",
     "output_type": "stream",
     "text": [
      "time.struct_time(tm_year=2017, tm_mon=4, tm_mday=17, tm_hour=8, tm_min=35, tm_sec=29, tm_wday=0, tm_yday=107, tm_isdst=0)\n",
      "Mon Apr 17 08:35:29 2017\n",
      "1492398329.4567747 -> time.struct_time(tm_year=2017, tm_mon=4, tm_mday=17, tm_hour=3, tm_min=5, tm_sec=29, tm_wday=0, tm_yday=107, tm_isdst=0)\n",
      "1492382129.0 -> time.struct_time(tm_year=2017, tm_mon=4, tm_mday=17, tm_hour=4, tm_min=5, tm_sec=29, tm_wday=0, tm_yday=107, tm_isdst=0)\n",
      "The program took 28.407318756660686 seconds up to now...\n",
      "1 second(s)\n",
      "2 second(s)\n",
      "3 second(s)\n",
      "4 second(s)\n",
      "5 second(s)\n"
     ]
    }
   ],
   "source": [
    "import time\n",
    "\n",
    "# localtime() Returns a date and local time in the form \n",
    "# of a structure called struct_time, which is a \n",
    "# collection with the items: year, month, day, hour, minute,\n",
    "# secund, day of the week, day of the year and e daylight saving time\n",
    "print (time.localtime())\n",
    "\n",
    "# asctime() returns a date and hour with string, according to\n",
    "# operating system configuration\n",
    "print (time.asctime())\n",
    "\n",
    "# time() returns system time in seconds\n",
    "ts1 = time.time()\n",
    "\n",
    "# gmtime() converts seconds to struct_time\n",
    "tt1 = time.gmtime(ts1)\n",
    "print (ts1, '->', tt1)\n",
    "\n",
    "# Adding an hour\n",
    "tt2 = time.gmtime(ts1 + 3600)\n",
    "\n",
    "# mktime() converts struct_time  to seconds\n",
    "ts2 = time.mktime(tt2)\n",
    "print (ts2, '->', tt2)\n",
    "\n",
    "# clock() returs time since the program started, in seconds\n",
    "print ('The program took', time.clock(), \\\n",
    "    'seconds up to now...')\n",
    "\n",
    "# Counting seconds...\n",
    "for i in range(5):\n",
    "    # sleep() waits the number of seconds specified as parameter\n",
    "    time.sleep(1)\n",
    "    print (i + 1, 'second(s)')"
   ]
  },
  {
   "cell_type": "code",
   "execution_count": 54,
   "metadata": {},
   "outputs": [
    {
     "name": "stdout",
     "output_type": "stream",
     "text": [
      "1 second(s)\n",
      "2 second(s)\n",
      "3 second(s)\n",
      "4 second(s)\n",
      "countdown completed\n"
     ]
    }
   ],
   "source": [
    "def countdown(x):\n",
    "    # Counting seconds...\n",
    "    for i in range(x):\n",
    "        # sleep() waits the number of seconds specified as parameter\n",
    "        time.sleep(1)\n",
    "        print (i + 1, 'second(s)')\n",
    "\n",
    "countdown(4)\n",
    "print(\"countdown completed\")"
   ]
  },
  {
   "cell_type": "markdown",
   "metadata": {},
   "source": [
    "In *datetime*, four types are defined for representing time:\n",
    "\n",
    "+ *datetime*: date and time.\n",
    "+ *date*: just date.\n",
    "+ *time*: just time.\n",
    "+ *timedelta*: time diference.\n",
    "\n",
    "Example:"
   ]
  },
  {
   "cell_type": "code",
   "execution_count": 55,
   "metadata": {},
   "outputs": [
    {
     "name": "stdout",
     "output_type": "stream",
     "text": [
      "Date: 2020-12-31\n",
      "Hour: 23:59:59\n",
      "How many time to 12/31/2020: 1354 days, 15:22:27.025924\n"
     ]
    }
   ],
   "source": [
    "import datetime\n",
    "\n",
    "# datetime() receives as parameter:\n",
    "# year, month, day, hour, minute, second and \n",
    "# returns an object of type datetime\n",
    "dt = datetime.datetime(2020, 12, 31, 23, 59, 59)\n",
    "\n",
    "# Objects date and time can be created from\n",
    "# a datetime object\n",
    "date = dt.date()\n",
    "hour = dt.time()\n",
    "\n",
    "# How many time to 12/31/2020\n",
    "dd = dt - dt.today()\n",
    "\n",
    "print ('Date:', date)\n",
    "print ('Hour:', hour)\n",
    "print ('How many time to 12/31/2020:', dd)\n"
   ]
  },
  {
   "cell_type": "markdown",
   "metadata": {},
   "source": [
    "## copy — Shallow and deep copy operations\n",
    "\n",
    "Assignment statements in Python do not copy objects, they create bindings between a target and an object. For collections that are mutable or contain mutable items, a copy is sometimes needed so one can change one copy without changing the other. This module provides generic shallow and deep copy operations"
   ]
  },
  {
   "cell_type": "code",
   "execution_count": 60,
   "metadata": {},
   "outputs": [
    {
     "name": "stdout",
     "output_type": "stream",
     "text": [
      "2180776216904\n",
      "2180776216904\n",
      "['a', 'b', ['ab', 'ba']]\n",
      "['a', 'b', ['ab', 'ba']]\n",
      "['a', 'b', ['ab', 'new']]\n",
      "['a', 'b', ['ab', 'new']]\n",
      "['new1', 'b', ['ab', 'new']]\n",
      "['new1', 'b', ['ab', 'new']]\n",
      "as\n",
      "['new1', 'b', ['ab', 'new']]\n",
      "2180712164408\n",
      "2180776216904\n"
     ]
    }
   ],
   "source": [
    "lst1 = ['a','b',['ab','ba']]\n",
    "print(id(lst1))\n",
    "lst2 = lst1\n",
    "print(id(lst2))\n",
    "print(lst1)\n",
    "print(lst2)\n",
    "lst1[2][1] = \"new\"\n",
    "print(lst1)\n",
    "print(lst2)\n",
    "lst1[0] = \"new1\"\n",
    "print(lst1)\n",
    "print(lst2)\n",
    "lst1 = \"as\"\n",
    "print(lst1)\n",
    "print(lst2)\n",
    "\n",
    "print(id(lst1))\n",
    "print(id(lst2))"
   ]
  },
  {
   "cell_type": "code",
   "execution_count": 63,
   "metadata": {
    "scrolled": true
   },
   "outputs": [
    {
     "name": "stdout",
     "output_type": "stream",
     "text": [
      "10\n",
      "10\n",
      "1397273952\n",
      "1397273952\n",
      "1397273984\n",
      "1397273952\n"
     ]
    }
   ],
   "source": [
    "x = 10\n",
    "y = x\n",
    "print(x)\n",
    "print(y)\n",
    "print(id(x))\n",
    "print(id(y))\n",
    "x = 11\n",
    "print(id(x))\n",
    "print(id(y))"
   ]
  },
  {
   "cell_type": "markdown",
   "metadata": {},
   "source": [
    "<img src=\"files/shallowcopy1.png\" width=300>\n",
    "\n",
    "<img src=\"files/shallowcopy2.png\" width=300>\n",
    "\n",
    "<img src=\"files/shallowcopy3.png\" width=470>"
   ]
  },
  {
   "cell_type": "markdown",
   "metadata": {},
   "source": [
    "###  copy.copy(x)\n",
    "\n",
    "Return a shallow copy of x."
   ]
  },
  {
   "cell_type": "code",
   "execution_count": null,
   "metadata": {
    "collapsed": true
   },
   "outputs": [],
   "source": []
  },
  {
   "cell_type": "code",
   "execution_count": 64,
   "metadata": {},
   "outputs": [
    {
     "name": "stdout",
     "output_type": "stream",
     "text": [
      "l  : [<__main__.MyClass object at 0x000001FBC0658E80>]\n",
      "dup: [<__main__.MyClass object at 0x000001FBC0658E80>]\n",
      "dup is l: False\n",
      "dup == l: True\n",
      "dup[0] is l[0]: True\n",
      "dup[0] == l[0]: True\n"
     ]
    }
   ],
   "source": [
    "import copy\n",
    "\n",
    "class MyClass:\n",
    "    def __init__(self, name): # contructor\n",
    "        self.name = name\n",
    "        \n",
    "    def __cmp__(self, other):\n",
    "        return cmp(self.name, other.name)\n",
    "\n",
    "a = MyClass('a')\n",
    "l = [ a ]\n",
    "dup = copy.copy(l)\n",
    "\n",
    "print ('l  :', l)\n",
    "print ('dup:', dup)\n",
    "print ('dup is l:', (dup is l))\n",
    "print ('dup == l:', (dup == l))\n",
    "print ('dup[0] is l[0]:', (dup[0] is l[0]))\n",
    "print ('dup[0] == l[0]:', (dup[0] == l[0]))"
   ]
  },
  {
   "cell_type": "markdown",
   "metadata": {},
   "source": [
    "### copy.deepcopy(x)\n",
    "\n",
    "Return a deep copy of x."
   ]
  },
  {
   "cell_type": "code",
   "execution_count": 65,
   "metadata": {},
   "outputs": [
    {
     "name": "stdout",
     "output_type": "stream",
     "text": [
      "l  : [<__main__.MyClass object at 0x000001FBC0658E80>]\n",
      "dup: [<__main__.MyClass object at 0x000001FBC0669EB8>]\n",
      "dup is l: False\n",
      "dup == l: False\n",
      "dup[0] is l[0]: False\n",
      "dup[0] == l[0]: False\n"
     ]
    }
   ],
   "source": [
    "dup = copy.deepcopy(l)\n",
    "print ('l  :', l)\n",
    "print ('dup:', dup)\n",
    "print ('dup is l:', (dup is l))\n",
    "print ('dup == l:', (dup == l))\n",
    "print ('dup[0] is l[0]:', (dup[0] is l[0]))\n",
    "print ('dup[0] == l[0]:', (dup[0] == l[0]))"
   ]
  },
  {
   "cell_type": "code",
   "execution_count": 73,
   "metadata": {},
   "outputs": [
    {
     "name": "stdout",
     "output_type": "stream",
     "text": [
      "2180776346504\n",
      "2180776295816\n",
      "2180710328896\n",
      "2180710328896\n",
      "b\n"
     ]
    }
   ],
   "source": [
    "# shallow copy \n",
    "import copy\n",
    "\n",
    "lst1 = ['a','b',['ab','ba']]\n",
    "lst2 = copy.copy(lst1)\n",
    "\n",
    "# print(id(lst1))\n",
    "# print(id(lst2))\n",
    "# print(lst1)\n",
    "# print(lst2)\n",
    "# lst1[2][1] = \"new\"\n",
    "# print(lst1)\n",
    "# print(lst2)\n",
    "# lst1[0] = \"new1\"\n",
    "# print(lst1)\n",
    "# print(lst2)\n",
    "# lst1 = \"as\"\n",
    "# print(lst1)\n",
    "# print(lst2)\n",
    "\n",
    "print(id(lst1))\n",
    "print(id(lst2))\n",
    "print(id(lst1[1]))\n",
    "print(id(lst2[1]))\n",
    "print(lst1[1])"
   ]
  },
  {
   "cell_type": "code",
   "execution_count": 78,
   "metadata": {},
   "outputs": [
    {
     "name": "stdout",
     "output_type": "stream",
     "text": [
      "2180776381832\n",
      "2180776293896\n",
      "['a', 'b', ['ab', 'ba']]\n",
      "['a', 'b', ['ab', 'ba']]\n",
      "['a', 'b', ['ab', 'new']]\n",
      "['a', 'b', ['ab', 'ba']]\n",
      "['new1', 'b', ['ab', 'new']]\n",
      "['a', 'b', ['ab', 'ba']]\n",
      "as\n",
      "['a', 'b', ['ab', 'ba']]\n"
     ]
    }
   ],
   "source": [
    "# shallow copy \n",
    "import copy\n",
    "\n",
    "lst1 = ['a','b',['ab','ba']]\n",
    "lst2 = copy.deepcopy(lst1)\n",
    "\n",
    "print(id(lst1))\n",
    "print(id(lst2))\n",
    "print(lst1)\n",
    "print(lst2)\n",
    "lst1[2][1] = \"new\"\n",
    "print(lst1)\n",
    "print(lst2)\n",
    "lst1[0] = \"new1\"\n",
    "print(lst1)\n",
    "print(lst2)\n",
    "lst1 = \"as\"\n",
    "print(lst1)\n",
    "print(lst2)\n",
    "\n",
    "# # print(id(lst3))\n",
    "# print(id(lst4))\n",
    "# print(id(lst3[1]))\n",
    "# print(id(lst4[1]))\n",
    "# print(lst3[1])"
   ]
  },
  {
   "cell_type": "markdown",
   "metadata": {},
   "source": [
    "### Difference between shallow and deep copying\n",
    "\n",
    "The difference between shallow and deep copying is only relevant for compound objects (objects that contain other objects, like lists or class instances):\n",
    "\n",
    "    A shallow copy constructs a new compound object and then (to the extent possible) inserts references into it to the objects found in the original.\n",
    "    A deep copy constructs a new compound object and then, recursively, inserts copies into it of the objects found in the original.\n",
    "\n",
    "Two problems often exist with deep copy operations that don’t exist with shallow copy operations:\n",
    "\n",
    "    Recursive objects (compound objects that, directly or indirectly, contain a reference to themselves) may cause a recursive loop.\n",
    "    Because deep copy copies everything it may copy too much, such as data which is intended to be shared between copies.\\\n",
    "\n",
    "The deepcopy() function avoids these problems by:\n",
    "\n",
    "    keeping a “memo” dictionary of objects already copied during the current copying pass; and\n",
    "    letting user-defined classes override the copying operation or the set of components copied.\n"
   ]
  },
  {
   "cell_type": "markdown",
   "metadata": {},
   "source": [
    "#### Controlling Copy Behavior\n",
    "\n",
    "It is possible to control how copies are made using the __copy__ and __deepcopy__ hooks.\n",
    "\n",
    "    __copy__() is called without any arguments and should return a shallow copy of the object.\n",
    "    __deepcopy__() is called with a memo dictionary, and should return a deep copy of the object. Any member attributes that need to be deep-copied should be passed to copy.deepcopy(), along with the memo dictionary, to control for recursion (see below).\n",
    "\n",
    "This example illustrates how the methods are called:"
   ]
  },
  {
   "cell_type": "code",
   "execution_count": 84,
   "metadata": {},
   "outputs": [
    {
     "name": "stdout",
     "output_type": "stream",
     "text": [
      "__copy__()\n",
      "__deepcopy__({})\n"
     ]
    }
   ],
   "source": [
    "import copy\n",
    "\n",
    "class MyClass:\n",
    "    def __init__(self, name):\n",
    "        self.name = name\n",
    "    def __cmp__(self, other):\n",
    "        return cmp(self.name, other.name)\n",
    "    def __copy__(self):\n",
    "        print ('__copy__()')\n",
    "        return MyClass(self.name)\n",
    "    def __deepcopy__(self, memo):\n",
    "        print ('__deepcopy__(%s)' % str(memo))\n",
    "        return MyClass(copy.deepcopy(self.name, memo))\n",
    "\n",
    "a = MyClass('a')\n",
    "\n",
    "sc = copy.copy(a)\n",
    "dc = copy.deepcopy(a)"
   ]
  },
  {
   "cell_type": "markdown",
   "metadata": {},
   "source": [
    "### textwrap — Text wrapping and filling\n",
    "\n",
    "The `textwrap` module provides some convenience functions, as well as `TextWrapper`, the class that does all the work. If you’re just wrapping or filling one or two text strings, the convenience functions should be good enough; otherwise, you should use an instance of `TextWrapper` for efficiency"
   ]
  },
  {
   "cell_type": "markdown",
   "metadata": {},
   "source": [
    "* **textwrap.wrap** - Wraps the single paragraph in text (a string) so every line is at most width characters long. Returns a list of output lines, without final newlines. Optional keyword arguments correspond to the instance attributes of TextWrapper, documented below. width defaults to 70."
   ]
  },
  {
   "cell_type": "code",
   "execution_count": 79,
   "metadata": {},
   "outputs": [
    {
     "name": "stdout",
     "output_type": "stream",
     "text": [
      "    The   `textwrap` module provides some convenience functions, as well as `TextWrapper`, the class that does all the work. If you’re just wrapping or filling one or two text strings, the convenience functions should be good enough; otherwise, you should use an instance of `TextWrapper` for efficiency\n",
      "    The   `textwrap` module provides some convenience functions, as\n",
      "well as `TextWrapper`, the class that does all the work. If you’re\n",
      "just wrapping or filling one or two text strings, the convenience\n",
      "functions should be good enough; otherwise, you should use an instance\n",
      "of `TextWrapper` for efficiency\n",
      "    The   `textwrap` module provides some convenience functions, as well as `TextWrapper`, the class\n",
      "that does all the work. If you’re just wrapping or filling one or two text strings, the convenience\n",
      "functions should be good enough; otherwise, you should use an instance of `TextWrapper` for\n",
      "efficiency\n",
      "*     The   `textwrap` module provides some convenience\n",
      "functions, as well as `TextWrapper`, the class that does all\n",
      "the work. If you’re just wrapping or filling one or two text\n",
      "strings, the convenience functions should be good enough;\n",
      "otherwise, you should use an instance of `TextWrapper` for\n",
      "efficiency\n"
     ]
    }
   ],
   "source": [
    "import textwrap\n",
    "txt = \"    The   `textwrap` module provides some convenience functions, as well as `TextWrapper`, the class that does all the work. If you’re just wrapping or filling one or two text strings, the convenience functions should be good enough; otherwise, you should use an instance of `TextWrapper` for efficiency\"\n",
    "print(txt)\n",
    "\n",
    "for t in textwrap.wrap(txt):\n",
    "    print(t)\n",
    "    \n",
    "for t in textwrap.wrap(txt, width=100):\n",
    "    print(t)\n",
    "    \n",
    "for t in textwrap.wrap(txt, width=60, initial_indent=\"* \"):\n",
    "    print(t)"
   ]
  },
  {
   "cell_type": "markdown",
   "metadata": {},
   "source": [
    "* **textwrap.fill** - Wraps the single paragraph in text, and returns a single string containing the wrapped paragraph. fill() is shorthand for"
   ]
  },
  {
   "cell_type": "code",
   "execution_count": 68,
   "metadata": {},
   "outputs": [
    {
     "name": "stdout",
     "output_type": "stream",
     "text": [
      "    The   `textwrap` module provides some convenience functions, as\n",
      "well as `TextWrapper`, the class that does all the work. If you’re\n",
      "just wrapping or filling one or two text strings, the convenience\n",
      "functions should be good enough; otherwise, you should use an instance\n",
      "of `TextWrapper` for efficiency\n"
     ]
    }
   ],
   "source": [
    "print(textwrap.fill(txt))"
   ]
  },
  {
   "cell_type": "markdown",
   "metadata": {},
   "source": [
    "* **textwrap.shorten** - Collapse and truncate the given text to fit in the given width. First the whitespace in text is collapsed (all whitespace is replaced by single spaces). If the result fits in the width, it is returned. Otherwise, enough words are dropped from the end so that the remaining words plus the placeholder fit within width"
   ]
  },
  {
   "cell_type": "code",
   "execution_count": 69,
   "metadata": {},
   "outputs": [
    {
     "name": "stdout",
     "output_type": "stream",
     "text": [
      "The `textwrap` module provides some convenience [...]\n",
      "The `textwrap` module provides some [...]\n",
      "The `textwrap` module...\n",
      "24\n",
      "The `textwrap`...\n",
      "17\n"
     ]
    }
   ],
   "source": [
    "print(textwrap.shorten(txt, width=60))\n",
    "print(textwrap.shorten(txt, width=50))\n",
    "s = textwrap.shorten(txt, width=25, placeholder=\"...\")\n",
    "print(s)\n",
    "print(len(s))\n",
    "s = textwrap.shorten(txt, width=20, placeholder=\"...\")\n",
    "print(s)\n",
    "print(len(s))"
   ]
  },
  {
   "cell_type": "markdown",
   "metadata": {},
   "source": [
    "* **textwrap.dedent** - Remove any common leading whitespace from every line in text."
   ]
  },
  {
   "cell_type": "code",
   "execution_count": 70,
   "metadata": {},
   "outputs": [
    {
     "data": {
      "text/plain": [
       "'The   `textwrap` module provides some convenience functions, as well as `TextWrapper`, the class that does all the work. If you’re just wrapping or filling one or two text strings, the convenience functions should be good enough; otherwise, you should use an instance of `TextWrapper` for efficiency'"
      ]
     },
     "execution_count": 70,
     "metadata": {},
     "output_type": "execute_result"
    }
   ],
   "source": [
    "textwrap.dedent(txt)"
   ]
  },
  {
   "cell_type": "markdown",
   "metadata": {},
   "source": [
    "* **textwrap.indent** - Add prefix to the beginning of selected lines in text."
   ]
  },
  {
   "cell_type": "code",
   "execution_count": 71,
   "metadata": {},
   "outputs": [
    {
     "name": "stdout",
     "output_type": "stream",
     "text": [
      "$ The   `textwrap` module provides some convenience functions\n",
      "$  as well as `TextWrapper`\n",
      "$  the class that does all the work. If you’re just wrapping or filling one or two text strings\n",
      "$  the convenience functions should be good enough; otherwise\n",
      "$  you should use an instance of `TextWrapper` for efficiency\n"
     ]
    }
   ],
   "source": [
    "print(textwrap.indent(txt.strip().replace(\",\", '\\n'), '$ '))"
   ]
  },
  {
   "cell_type": "markdown",
   "metadata": {},
   "source": [
    "## Excersise - Files I/O\n",
    "\n",
    "\n",
    "1. Write a Python program to read an entire text file.     \n",
    "\n",
    "2. Write a Python program to read first n lines of a file.     \n",
    "\n",
    "3. Write a Python program to append text to a file and display the text.     \n",
    "\n",
    "4. Write a Python program to read last n lines of a file.     \n",
    "\n",
    "5. Write a Python program to read a file line by line and store it into a list.     \n",
    "\n",
    "6. Write a Python program to read a file line by line store it into a variable.     \n",
    "\n",
    "7. Write a Python program to read a file line by line store it into an array.     \n",
    "\n",
    "8. Write a python program to find the longest words.     \n",
    "\n",
    "9. Write a Python program to count the number of lines in a text file.     \n",
    "\n",
    "10. Write a Python program to count the frequency of words in a file.     \n",
    "\n",
    "11. Write a Python program to get the file size of a plain file.     \n",
    "\n",
    "12. Write a Python program to write a list to a file.     \n",
    "\n",
    "13. Write a Python program to copy the contents of a file to another file .     \n",
    "\n",
    "14. Write a Python program to combine each line from first file with the corresponding line in second file.     \n",
    "\n",
    "15. Write a Python program to read a random line from a file.     \n",
    "\n",
    "16. Write a Python program to assess if a file is closed or not.     \n",
    "\n",
    "17. Write a Python program to remove newline characters from a file.     "
   ]
  },
  {
   "cell_type": "markdown",
   "metadata": {},
   "source": [
    "## Excersise - OS, zip, csv\n",
    "\n",
    "* Write a program to list all the files in the given directory along with their length and last modification time. The output should contain one line for each file containing filename, length and modification date separated by tabs.\n",
    "* Write a program to print directory tree. The program should take path of a directory as argument and print all the files in it recursively as a tree.\n",
    "* Write a python program zip.py to create a zip file. The program should take name of zip file as first argument and files to add as rest of the arguments.\n",
    "* Create a csv file and traverse it using `csv` module"
   ]
  },
  {
   "cell_type": "markdown",
   "metadata": {},
   "source": [
    "## Excersise - textwrap\n",
    "\n",
    "**Pre**: Store entire text of \"Excersise - OS, zip, csv\" in a string (exc)\n",
    "\n",
    "1. Print the `exc` with one line spacing\n",
    "2. Print summary of the `exc` so that only 50 chars are shown\n",
    "3. Print `exc` in such a manner that it replaces starting \"*\" with 'Question auto_number:'.\n"
   ]
  },
  {
   "cell_type": "markdown",
   "metadata": {},
   "source": [
    "## Excersise - Time\n",
    "\n",
    "* Write a fuction which can find the time of execution duration of each excercise in sec & also in min. \n",
    "* Write a clock which can return the time in multiple timezones."
   ]
  }
 ],
 "metadata": {
  "kernelspec": {
   "display_name": "Python 3",
   "language": "python",
   "name": "python3"
  },
  "language_info": {
   "codemirror_mode": {
    "name": "ipython",
    "version": 3
   },
   "file_extension": ".py",
   "mimetype": "text/x-python",
   "name": "python",
   "nbconvert_exporter": "python",
   "pygments_lexer": "ipython3",
   "version": "3.6.1"
  }
 },
 "nbformat": 4,
 "nbformat_minor": 1
}
