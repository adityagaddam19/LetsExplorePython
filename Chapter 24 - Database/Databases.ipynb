{
 "cells": [
  {
   "cell_type": "markdown",
   "metadata": {},
   "source": [
    "# Databases\n",
    "----\n",
    "Following are the API's which can be used to access any database\n",
    "## DB-API\n",
    "---\n",
    "The Python Database API (DB-API) defines a standard interface for Python database access modules. It’s documented in PEP 249. Nearly all Python database modules such as sqlite3, psycopg and mysql-python conform to this interface.\n",
    "### Example"
   ]
  },
  {
   "cell_type": "code",
   "execution_count": 1,
   "metadata": {
    "collapsed": false
   },
   "outputs": [
    {
     "name": "stdout",
     "output_type": "stream",
     "text": [
      "<class 'list'>\n",
      "Mayank Johri was born in 1976-7-10\n",
      "Subhas Chandra Bose was born in January 23, 1897\n",
      "Bhagat Singh was born in September 28, 1907\n"
     ]
    }
   ],
   "source": [
    "# -*- coding: utf-8 -*-\n",
    "\"\"\"\n",
    "Created on Mon Aug 15 07:37:10 2016\n",
    "\n",
    "@author: hclqaVirtualBox1\n",
    "\"\"\"\n",
    "\n",
    "try:\n",
    "    from sqlite3 import dbapi2 as sqlite\n",
    "except ImportError:\n",
    "    from pysqlite2 import dbapi2 as sqlite\n",
    "\n",
    "DB_FILE = 'db/comment.sqlite3'\n",
    "    \n",
    "def createDB():\n",
    "    import os\n",
    "    \n",
    "    if os.path.exists(DB_FILE):\n",
    "        os.remove(DB_FILE)    \n",
    "    db_conn = sqlite.connect(DB_FILE)\n",
    "        \n",
    "    db_curs = db_conn.cursor()\n",
    "    db_curs.execute(\"\"\"CREATE TABLE people (\n",
    "                    id INTEGER PRIMARY KEY, first_name VARCHAR(20),\n",
    "                    last_name VARCHAR(30), date_of_birth DATE)\"\"\")\n",
    "    db_curs.execute(\"\"\"INSERT INTO people (first_name, last_name, date_of_birth)\n",
    "                         VALUES ('Mayank', 'Johri', '1976-7-10')\"\"\")\n",
    "    db_curs.close()\n",
    "    return db_conn\n",
    "\n",
    "def getData(db_conn):\n",
    "    db_cur = db_conn.cursor()\n",
    "    sql = \"select first_name, last_name, date_of_birth from people\"\n",
    "    db_cur.execute(sql)\n",
    "    data = db_cur.fetchall()\n",
    "    db_cur.close()\n",
    "    return data\n",
    "\n",
    "def getAllData(db_conn):\n",
    "    db_cur = db_conn.cursor()\n",
    "    sql = \"select first_name, last_name, date_of_birth from people\"\n",
    "    db_cur.execute(sql)\n",
    "    data = db_cur.fetchall()\n",
    "    db_cur.close()\n",
    "    return data\n",
    "    \n",
    "\n",
    "def setUser(db_conn, first_name, last_name, date_of_birth):\n",
    "    stmt = \"\"\"INSERT INTO people (first_name, \n",
    "                                  last_name, \n",
    "                                  date_of_birth) VALUES (?,?,?)\"\"\"\n",
    "    db_cur = db_conn.cursor()\n",
    "    db_cur.execute(stmt, (first_name, last_name, date_of_birth))\n",
    "    \n",
    "def rollback(db_conn):\n",
    "    pass\n",
    "\n",
    "def commit(db_conn):\n",
    "    db_conn.commit()\n",
    "    \n",
    "if __name__ == \"__main__\":\n",
    "    db_conn = None\n",
    "    try:\n",
    "      db_conn = createDB()\n",
    "      setUser(db_conn, \"Subhas\", \"Chandra Bose\", \"January 23, 1897\")\n",
    "      setUser(db_conn, \"Bhagat\", \"Singh\", \"September 28, 1907\")      \n",
    "      data = getAllData(db_conn)\n",
    "      print(type(data))\n",
    "      for d in data:\n",
    "          print(\"{0} {1} was born in {2}\".format(d[0], d[1], d[2]))\n",
    "    except:\n",
    "      rollback(db_conn)\n",
    "      raise \n",
    "    else:\n",
    "      commit(db_conn)\n",
    "    finally:\n",
    "        if db_conn != None:\n",
    "            db_conn.close()"
   ]
  },
  {
   "cell_type": "code",
   "execution_count": null,
   "metadata": {
    "collapsed": true
   },
   "outputs": [],
   "source": [
    "try:\n",
    "    from sqlite3 import dbapi2 as sqlite\n",
    "except ImportError:\n",
    "    from pysqlite2 import dbapi2 as sqlite\n",
    "\n",
    "DB_FILE = 'db/comment.sqlite3'\n",
    "\n"
   ]
  },
  {
   "cell_type": "markdown",
   "metadata": {},
   "source": [
    "## SQLAlchemy\n",
    "---\n",
    "SQLAlchemy is a commonly used database toolkit. Unlike many database libraries it not only provides an ORM layer but also a generalized API for writing database-agnostic code without SQL.\n",
    "> $ pip install sqlalchemy\n",
    "\n",
    "### Example"
   ]
  },
  {
   "cell_type": "code",
   "execution_count": null,
   "metadata": {
    "collapsed": true
   },
   "outputs": [],
   "source": []
  },
  {
   "cell_type": "markdown",
   "metadata": {},
   "source": [
    "## Records\n",
    "\n",
    "Records is minimalist SQL library, designed for sending raw SQL queries to various databases. Data can be used programmatically, or exported to a number of useful data formats.\n",
    "\n",
    "> $ pip install records\n",
    "\n",
    "Also included is a command-line tool for exporting SQL data."
   ]
  },
  {
   "cell_type": "code",
   "execution_count": null,
   "metadata": {
    "collapsed": true
   },
   "outputs": [],
   "source": []
  },
  {
   "cell_type": "markdown",
   "metadata": {},
   "source": [
    "## SQLObject\n",
    "--------\n",
    "SQLObject is yet another ORM. It supports a wide variety of databases: Common database systems MySQL, Postgres and SQLite and more exotic systems like SAP DB, SyBase and MSSQL."
   ]
  },
  {
   "cell_type": "code",
   "execution_count": null,
   "metadata": {
    "collapsed": true
   },
   "outputs": [],
   "source": []
  }
 ],
 "metadata": {
  "anaconda-cloud": {},
  "kernelspec": {
   "display_name": "Python 3",
   "language": "python",
   "name": "python3"
  },
  "language_info": {
   "codemirror_mode": {
    "name": "ipython",
    "version": 3
   },
   "file_extension": ".py",
   "mimetype": "text/x-python",
   "name": "python",
   "nbconvert_exporter": "python",
   "pygments_lexer": "ipython3",
   "version": "3.6.0"
  }
 },
 "nbformat": 4,
 "nbformat_minor": 0
}
