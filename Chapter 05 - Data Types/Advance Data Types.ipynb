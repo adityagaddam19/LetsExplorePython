{
 "cells": [
  {
   "cell_type": "markdown",
   "metadata": {},
   "source": [
    "# Advance Data Types\n",
    "\n",
    "This section will cover the following advance topics in data types\n",
    "\n",
    "* Collections\n"
   ]
  },
  {
   "cell_type": "markdown",
   "metadata": {},
   "source": [
    "## Collections \n",
    "\n",
    "The collections module is a tresure trove of a built-in module that implements specialized container datatypes providing alternatives to Python’s general purpose built-in containers.\n",
    "This module implements specialized container datatypes providing alternatives to Python’s general purpose built-in containers, dict, list, set, and tuple.\n",
    "\n",
    "| Name | Description|\n",
    "|:-------------:|---------------|\n",
    "| namedtuple() | factory function for creating tuple subclasses with named fields |\n",
    "| deque | list-like container with fast appends and pops on either end\n",
    "| ChainMap | \tdict-like class for creating a single view of multiple mappings| \n",
    "| Counter \t| dict subclass for counting hashable objects| \n",
    "| OrderedDict | \tdict subclass that remembers the order entries were added| \n",
    "| defaultdict \t| dict subclass that calls a factory function to supply missing values| \n",
    "| UserDict | \twrapper around dictionary objects for easier dict subclassing| \n",
    "| UserList | \twrapper around list objects for easier list subclassing| \n",
    "| UserString | \twrapper around string objects for easier string subclassing| \n",
    "\n",
    "### Counter\n",
    "\n",
    "*Counter* is a *dict* subclass which helps count hashable objects. Inside of it elements are stored as dictionary keys and the counts of the objects are stored as the value.\n",
    "\n",
    "Lets see how it can be used:"
   ]
  },
  {
   "cell_type": "code",
   "execution_count": 68,
   "metadata": {
    "collapsed": true
   },
   "outputs": [],
   "source": [
    "from collections import Counter"
   ]
  },
  {
   "cell_type": "markdown",
   "metadata": {},
   "source": [
    "#### Counter() with lists"
   ]
  },
  {
   "cell_type": "code",
   "execution_count": 69,
   "metadata": {},
   "outputs": [
    {
     "data": {
      "text/plain": [
       "Counter({1: 2, 2: 1, 4: 1, 23: 3, 32: 1, 44: 4, 55: 1, 56: 1, 64: 1, 555: 1})"
      ]
     },
     "execution_count": 69,
     "metadata": {},
     "output_type": "execute_result"
    }
   ],
   "source": [
    "l = [1 ,23 , 23, 44, 4, 44, 55, 555, 44, 32, 23, 44, 56, 64, 2, 1]\n",
    "\n",
    "Counter(l)"
   ]
  },
  {
   "cell_type": "markdown",
   "metadata": {},
   "source": [
    "#### Counter with Strings"
   ]
  },
  {
   "cell_type": "code",
   "execution_count": 70,
   "metadata": {},
   "outputs": [
    {
     "data": {
      "text/plain": [
       "Counter({'Python’s': 1,\n",
       "         'The': 1,\n",
       "         'a': 2,\n",
       "         'alternatives': 1,\n",
       "         'built-in': 2,\n",
       "         'collections': 1,\n",
       "         'container': 1,\n",
       "         'containers.': 1,\n",
       "         'datatypes': 1,\n",
       "         'general': 1,\n",
       "         'implements': 1,\n",
       "         'is': 1,\n",
       "         'module': 2,\n",
       "         'of': 1,\n",
       "         'providing': 1,\n",
       "         'purpose': 1,\n",
       "         'specialized': 1,\n",
       "         'that': 1,\n",
       "         'to': 1,\n",
       "         'tresure': 1,\n",
       "         'trove': 1})"
      ]
     },
     "execution_count": 70,
     "metadata": {},
     "output_type": "execute_result"
    }
   ],
   "source": [
    "sentance = \"The collections module is a tresure trove of a built-in module that implements specialized container datatypes providing alternatives to Python’s general purpose built-in containers.\"\n",
    "\n",
    "wordList = sentance.split(\" \")\n",
    "Counter(word)"
   ]
  },
  {
   "cell_type": "markdown",
   "metadata": {},
   "source": [
    "#### Counter methods"
   ]
  },
  {
   "cell_type": "code",
   "execution_count": 71,
   "metadata": {},
   "outputs": [
    {
     "data": {
      "text/plain": [
       "[('a', 2), ('module', 2), ('built-in', 2), ('implements', 1)]"
      ]
     },
     "execution_count": 71,
     "metadata": {},
     "output_type": "execute_result"
    }
   ],
   "source": [
    "# find the most common words\n",
    "\n",
    "# Methods with Counter()\n",
    "c = Counter(wordList)\n",
    "\n",
    "c.most_common(4)"
   ]
  },
  {
   "cell_type": "markdown",
   "metadata": {},
   "source": [
    "### Default dict "
   ]
  },
  {
   "cell_type": "code",
   "execution_count": 72,
   "metadata": {
    "collapsed": true
   },
   "outputs": [],
   "source": [
    "from collections import defaultdict"
   ]
  },
  {
   "cell_type": "code",
   "execution_count": 73,
   "metadata": {
    "collapsed": true
   },
   "outputs": [],
   "source": [
    "dd  = defaultdict(object)"
   ]
  },
  {
   "cell_type": "code",
   "execution_count": 74,
   "metadata": {},
   "outputs": [
    {
     "name": "stdout",
     "output_type": "stream",
     "text": [
      "defaultdict(<class 'object'>, {})\n"
     ]
    }
   ],
   "source": [
    "print(dd)"
   ]
  },
  {
   "cell_type": "code",
   "execution_count": 75,
   "metadata": {},
   "outputs": [
    {
     "data": {
      "text/plain": [
       "<object at 0x7f88dea043b0>"
      ]
     },
     "execution_count": 75,
     "metadata": {},
     "output_type": "execute_result"
    }
   ],
   "source": [
    "dd['one']"
   ]
  },
  {
   "cell_type": "code",
   "execution_count": 76,
   "metadata": {},
   "outputs": [
    {
     "name": "stdout",
     "output_type": "stream",
     "text": [
      "one\n",
      "<object object at 0x7f88dea043b0>\n"
     ]
    }
   ],
   "source": [
    "for d in dd:\n",
    "    print(d)\n",
    "    print(dd[d])"
   ]
  },
  {
   "cell_type": "code",
   "execution_count": 77,
   "metadata": {
    "collapsed": true
   },
   "outputs": [],
   "source": [
    "# Initializing with default value\n",
    "dd = defaultdict(lambda: 0)"
   ]
  },
  {
   "cell_type": "code",
   "execution_count": 78,
   "metadata": {},
   "outputs": [
    {
     "data": {
      "text/plain": [
       "0"
      ]
     },
     "execution_count": 78,
     "metadata": {},
     "output_type": "execute_result"
    }
   ],
   "source": [
    "dd['one']"
   ]
  },
  {
   "cell_type": "code",
   "execution_count": 79,
   "metadata": {},
   "outputs": [
    {
     "name": "stdout",
     "output_type": "stream",
     "text": [
      "one\n",
      "0\n"
     ]
    }
   ],
   "source": [
    "for d in dd:\n",
    "    print(d)\n",
    "    print(dd[d])"
   ]
  },
  {
   "cell_type": "code",
   "execution_count": 80,
   "metadata": {},
   "outputs": [
    {
     "name": "stdout",
     "output_type": "stream",
     "text": [
      "0\n"
     ]
    }
   ],
   "source": [
    "print(dd['one'])"
   ]
  },
  {
   "cell_type": "markdown",
   "metadata": {},
   "source": [
    "### OrderedDict\n",
    "It is a dictionary subclass that remembers the order in which its contents are added.\n",
    "\n",
    "Lets start with a normal dictionary:"
   ]
  },
  {
   "cell_type": "code",
   "execution_count": 2,
   "metadata": {},
   "outputs": [
    {
     "name": "stdout",
     "output_type": "stream",
     "text": [
      "{'apple': 10, 'mango': 200, 'kiwi': 2000, 'leeche': 20, 'grapes': 120}\n",
      "apple\n",
      "mango\n",
      "kiwi\n",
      "leeche\n",
      "grapes\n"
     ]
    }
   ],
   "source": [
    "fruitsCount = {}\n",
    "fruitsCount[\"apple\"] = 10\n",
    "fruitsCount[\"mango\"] = 200\n",
    "fruitsCount[\"kiwi\"] = 2000\n",
    "fruitsCount[\"leeche\"] = 20\n",
    "fruitsCount[\"grapes\"] = 120\n",
    "print(fruitsCount)\n",
    "for fruit in fruitsCount:\n",
    "    print(fruit)"
   ]
  },
  {
   "cell_type": "code",
   "execution_count": 82,
   "metadata": {},
   "outputs": [
    {
     "name": "stdout",
     "output_type": "stream",
     "text": [
      "apple\n",
      "mango\n",
      "kiwi\n",
      "leeche\n",
      "grapes\n"
     ]
    }
   ],
   "source": [
    "# Now lets try this with OrderedDict\n",
    "\n",
    "from collections import OrderedDict as OD\n",
    "\n",
    "fruitsCount = OD()\n",
    "fruitsCount[\"apple\"] = 10\n",
    "fruitsCount[\"mango\"] = 200\n",
    "fruitsCount[\"kiwi\"] = 200\n",
    "fruitsCount[\"leeche\"] = 20\n",
    "fruitsCount[\"grapes\"] = 120\n",
    "for fruit in fruitsCount:\n",
    "    print(fruit)"
   ]
  },
  {
   "cell_type": "markdown",
   "metadata": {},
   "source": [
    "More Details: https://docs.python.org/3/library/collections.html"
   ]
  }
 ],
 "metadata": {
  "kernelspec": {
   "display_name": "Python 3",
   "language": "python",
   "name": "python3"
  },
  "language_info": {
   "codemirror_mode": {
    "name": "ipython",
    "version": 3
   },
   "file_extension": ".py",
   "mimetype": "text/x-python",
   "name": "python",
   "nbconvert_exporter": "python",
   "pygments_lexer": "ipython3",
   "version": "3.6.1"
  }
 },
 "nbformat": 4,
 "nbformat_minor": 1
}
