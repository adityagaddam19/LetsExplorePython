{
 "cells": [
  {
   "cell_type": "markdown",
   "metadata": {},
   "source": [
    "# 1. Machine Learning - Basics"
   ]
  },
  {
   "cell_type": "markdown",
   "metadata": {},
   "source": [
    "# Table of Contents\n",
    "* [1. Machine Learning - Basics](#1.-Machine-Learning---Basics)\n",
    "\t* [1.1 Introduction](#1.1-Introduction)\n",
    "\t* [1.2 Examples of Machine Learning](#1.2-Examples-of-Machine-Learning)\n",
    "\t* [1.3 ML methods](#1.3-ML-methods)\n",
    "\t* [1.4 Supervised machine learning algorithm](#1.4-Supervised-machine-learning-algorithm)\n",
    "\t\t* [1.4.1 Regression analysis](#1.4.1-Regression-analysis)\n",
    "\t\t\t* [1.4.1.1 Linear Regression](#1.4.1.1-Linear-Regression)\n",
    "\t\t\t* [1.4.1.2 Classification](#1.4.1.2-Classification)\n",
    "\t* [1.5 Unsupervised learning Algorithm](#1.5-Unsupervised-learning-Algorithm)\n",
    "\t\t* [1.5.1 Association Learning](#1.5.1-Association-Learning)\n"
   ]
  },
  {
   "cell_type": "markdown",
   "metadata": {},
   "source": [
    "## 1.1 Introduction"
   ]
  },
  {
   "cell_type": "markdown",
   "metadata": {},
   "source": [
    "> \"A computer program is said to learn from experience **E** with respect to some class of tasks **T** and performance measure **P** if its performance at tasks in **T**, as measured by **P**, improves with experience **E**.\" --**Tom M. Mitchell, Carnegie Mellon University**\n",
    "\n",
    "So if your program is to predict, say, weather on long weekends (task T), you can run it through a machine learning algorithm with past data (experience E) and, if it has successfully “learned”, it will then do better at predicting future weather (performance measure P).\n",
    "\n",
    "> Ability of a machine to improve its own performance through the use of artificial intelligence techniques to mimic the ways of humans seem to learn (repetition and experience)\n",
    "\n",
    "\n",
    "> Machine learning is to use generic algorithms with a set of data (Problem specific) without having to write any custom code specific to the problem. Instead, data is feed to those generic algorithm(s) and it builds its own logic based on the provided data"
   ]
  },
  {
   "cell_type": "markdown",
   "metadata": {},
   "source": [
    "## 1.2 Examples of Machine Learning"
   ]
  },
  {
   "cell_type": "markdown",
   "metadata": {},
   "source": [
    "- Auto-driving cars/trucks etc\n",
    "- Siri, Google Now\n",
    "- Handwriting detection \n",
    "- Spam detection"
   ]
  },
  {
   "cell_type": "code",
   "execution_count": null,
   "metadata": {
    "collapsed": true
   },
   "outputs": [],
   "source": []
  },
  {
   "cell_type": "markdown",
   "metadata": {},
   "source": [
    "## 1.3 ML methods"
   ]
  },
  {
   "cell_type": "markdown",
   "metadata": {},
   "source": [
    "Following are the common ML methods\n",
    "\n",
    "- **Supervised Learning** in which the data comes with additional attributes that we want to predict (Click here to go to the scikit-learn supervised learning page).This problem can be either:\n",
    "    * _**Classification**_ - The action or process of classifying something. `Classification` means to group the output into a class.\n",
    "    * _**Regression**_ - a measure of the relation between the mean value of one variable (e.g. output) and corresponding values of other variables (e.g. time and cost). It is defined as E[Y | X] (the expectation of Y given X). A subset of these types of models where Y is binary or categorical (including logistic regression and multinomial regression along with many machine learning algorithms that essential have the same target [such as classification trees]) are useful for classification.\n",
    "- **Unsupervised Learning** in which the training data consists of a set of input vectors x without any corresponding target values. The goal in such problems may be to discover groups of similar examples within the data, where it is called clustering, or to determine the distribution of data within the input space, known as density estimation, or to project the data from a high-dimensional space down to two or three dimensions for the purpose of visualization (Click here to go to the Scikit-Learn unsupervised learning page).\n",
    "- **Reinforcement Learning**\n",
    "- **Association Learning**"
   ]
  },
  {
   "cell_type": "markdown",
   "metadata": {},
   "source": [
    "## 1.4 Supervised machine learning algorithm"
   ]
  },
  {
   "cell_type": "markdown",
   "metadata": {
    "collapsed": true
   },
   "source": [
    "The program is \"trained\" using past event's data (training data), which then facilitate its ability to predict future events accurately when provided new data.\n",
    "\n",
    "In this algorithm, data is a set of `training examples` with the associated \"correct answers\" and it learns to predict the correct answer from this training set."
   ]
  },
  {
   "cell_type": "markdown",
   "metadata": {},
   "source": [
    "### 1.4.1 Regression analysis"
   ]
  },
  {
   "cell_type": "markdown",
   "metadata": {},
   "source": [
    "**Regression analysis** is a form of predictive modelling technique which investigates the relationship between a dependent (target) and independent variable (s) (predictor). This technique is used for forecasting, time series modelling and finding the causal effect relationship between the variables. For example, relationship between rash driving and number of road accidents by a driver is best studied through regression.\n",
    "\n",
    "Regression analysis is an important tool for modelling and analyzing data. Here, we fit a curve / line to the data points, in such a manner that the differences between the distances of data points from the curve or line is minimized.  I’ll explain this in more details in coming sections."
   ]
  },
  {
   "cell_type": "markdown",
   "metadata": {},
   "source": [
    "#### Types of Regression techniques"
   ]
  },
  {
   "cell_type": "markdown",
   "metadata": {},
   "source": [
    "There are many kinds of regression techniques available for predictions and are defined by three metrics\n",
    " - number of independent variables \n",
    " - type of dependent variables\n",
    " - shape of regression line\n"
   ]
  },
  {
   "cell_type": "markdown",
   "metadata": {},
   "source": [
    "\n",
    "\n",
    "Following are the most common regression algorithms\n",
    "\n",
    "- Linear Regression\n",
    "- Logistic Regression\n",
    "- Polynomial Regression\n",
    "- Stepwise Regression\n",
    "- Ridge Regression\n",
    "- Lasso Regression\n",
    "- ElasticNet Regression"
   ]
  },
  {
   "cell_type": "markdown",
   "metadata": {},
   "source": [
    "#### 1.4.1.1 Linear Regression"
   ]
  },
  {
   "cell_type": "markdown",
   "metadata": {},
   "source": [
    "It is one of the most widely known modeling technique. Linear regression is usually among the first few topics which people pick while learning predictive modeling. In this technique, the dependent variable is continuous, independent variable(s) can be continuous or discrete, and nature of regression line is linear.\n",
    "\n",
    "Linear Regression establishes a relationship between dependent variable (Y) and one or more independent variables (X) using a best fit straight line (also known as regression line).\n",
    "\n",
    "It is represented by an equation Y=a+b*X + e, where a is intercept, b is slope of the line and e is error term. This equation can be used to predict the value of target variable based on given predictor variable(s)."
   ]
  },
  {
   "cell_type": "markdown",
   "metadata": {},
   "source": [
    "> **NOTE** \n",
    "* There must be linear relationship between independent and dependent variables\n",
    "* Multiple regression suffers from multicollinearity, autocorrelation, heteroskedasticity.\n",
    "* Linear Regression is very sensitive to Outliers. It can terribly affect the regression line and eventually the forecasted values.\n",
    "* Multicollinearity can increase the variance of the coefficient estimates and make the estimates very sensitive to minor changes in the model. The result is that the coefficient estimates are unstable\n",
    "* In case of multiple independent variables, we can go with forward selection, backward elimination and step wise approach for selection of most significant independent variables."
   ]
  },
  {
   "cell_type": "markdown",
   "metadata": {},
   "source": [
    "#### Logistic Regression"
   ]
  },
  {
   "cell_type": "markdown",
   "metadata": {},
   "source": [
    "Logistic regression is used to find the probability of event=Success and event=Failure. We should use logistic regression when the dependent variable is binary (0/ 1, True/ False, Yes/ No) in nature. Here the value of Y ranges from 0 to 1 and it can represented by following equation."
   ]
  },
  {
   "cell_type": "markdown",
   "metadata": {},
   "source": [
    "### 1.4.1.2 Classification"
   ]
  },
  {
   "cell_type": "code",
   "execution_count": null,
   "metadata": {
    "collapsed": true
   },
   "outputs": [],
   "source": []
  },
  {
   "cell_type": "code",
   "execution_count": null,
   "metadata": {
    "collapsed": true
   },
   "outputs": [],
   "source": []
  },
  {
   "cell_type": "code",
   "execution_count": null,
   "metadata": {
    "collapsed": true
   },
   "outputs": [],
   "source": []
  },
  {
   "cell_type": "markdown",
   "metadata": {},
   "source": [
    "## 1.5 Unsupervised learning Algorithm"
   ]
  },
  {
   "cell_type": "markdown",
   "metadata": {
    "collapsed": true
   },
   "source": [
    "In an unsupervised learning algorithm, the algorithm can find trends in the data it is given, without looking for some specific “correct answer”. Examples of unsupervised learning algorithms involve clustering (grouping similar data points) or anomaly detection (detecting unusual data points in a data set)."
   ]
  },
  {
   "cell_type": "markdown",
   "metadata": {},
   "source": [
    "### 1.5.1 Association Learning"
   ]
  },
  {
   "cell_type": "markdown",
   "metadata": {
    "collapsed": true
   },
   "source": [
    "** Basket analysis**:\n",
    "P (Y | X ) probability that somebody who buys X\n",
    "also buys Y where X and Y are products/services.\n",
    "Example: P ( chips | beer ) = 0.7"
   ]
  },
  {
   "cell_type": "markdown",
   "metadata": {},
   "source": [
    "## Data Sets - Training Sets & Data Sets"
   ]
  },
  {
   "cell_type": "markdown",
   "metadata": {},
   "source": [
    "Machine learning is about learning some properties of a data set and applying them to new data. This is why a common practice in machine learning to evaluate an algorithm is to split the data at hand into two sets, one that we call the training set on which we learn data properties and one that we call the testing set on which we test these properties."
   ]
  },
  {
   "cell_type": "code",
   "execution_count": null,
   "metadata": {
    "collapsed": true
   },
   "outputs": [],
   "source": []
  }
 ],
 "metadata": {
  "kernelspec": {
   "display_name": "Python 3",
   "language": "python",
   "name": "python3"
  },
  "language_info": {
   "codemirror_mode": {
    "name": "ipython",
    "version": 3
   },
   "file_extension": ".py",
   "mimetype": "text/x-python",
   "name": "python",
   "nbconvert_exporter": "python",
   "pygments_lexer": "ipython3",
   "version": "3.6.0"
  }
 },
 "nbformat": 4,
 "nbformat_minor": 2
}
