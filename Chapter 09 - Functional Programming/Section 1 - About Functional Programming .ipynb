{
 "cells": [
  {
   "cell_type": "markdown",
   "metadata": {},
   "source": [
    "# Section 1 - About Functional Programming \n",
    "---\n",
    "\n",
    "\n"
   ]
  },
  {
   "cell_type": "markdown",
   "metadata": {},
   "source": [
    "## What is Functional Programming\n",
    "\n",
    "Functional programming is a programming paradigm that revolves around pure functions. A **pure function** is any function that can be represented as a mathematical expression only, which means, that no **side-effects**: no I/O operations, no global state changes, no database interactions. \n",
    "\n",
    "<img src=\"files/PureFunction.png\" width=\"500\" alt=\"Pure Function Representation\">\n",
    "\n",
    "The output from a pure function is **ONLY** dependent on its inputs. Thus if a pure function is called with the same inputs a million times, you would get the same result every single time.\n",
    "\n",
    "\n"
   ]
  },
  {
   "cell_type": "code",
   "execution_count": 6,
   "metadata": {},
   "outputs": [
    {
     "name": "stdout",
     "output_type": "stream",
     "text": [
      "1\n",
      "2\n",
      "3\n"
     ]
    }
   ],
   "source": [
    "# ugly function\n",
    "\n",
    "a = 0\n",
    "def ugly_increment():\n",
    "    global a\n",
    "    a += 1\n",
    "\n",
    "ugly_increment()\n",
    "print(a)\n",
    "ugly_increment()\n",
    "print(a)\n",
    "ugly_increment()\n",
    "print(a)\n"
   ]
  },
  {
   "cell_type": "code",
   "execution_count": 5,
   "metadata": {},
   "outputs": [
    {
     "name": "stdout",
     "output_type": "stream",
     "text": [
      "1\n",
      "2\n",
      "3\n"
     ]
    }
   ],
   "source": [
    "def better_increment(a):\n",
    "    return a+1\n",
    "\n",
    "num = 0\n",
    "num = better_increment(num)\n",
    "print(num)\n",
    "num = better_increment(num)\n",
    "print(num)\n",
    "num = better_increment(num)\n",
    "print(num)"
   ]
  },
  {
   "cell_type": "markdown",
   "metadata": {},
   "source": [
    "## Functions as First-Class citizens\n",
    "\n",
    "Functions can be treated as any other objects, such as they can assigned to a variables, can be passed as arguments, or even they can be returned from other functions"
   ]
  },
  {
   "cell_type": "markdown",
   "metadata": {},
   "source": [
    "### The lambda\n",
    "\n",
    "The simplest way to initialize a pure function in python is by using `lambda` keyword, which helps in defining the one-line function. Functions initialized with lambda can often called `anonymous functions`"
   ]
  },
  {
   "cell_type": "code",
   "execution_count": 3,
   "metadata": {},
   "outputs": [
    {
     "name": "stdout",
     "output_type": "stream",
     "text": [
      "200\n"
     ]
    }
   ],
   "source": [
    "# Example lambda keyword\n",
    "\n",
    "product_func = lambda x, y: x*y\n",
    "\n",
    "print(product_func(10,20))"
   ]
  },
  {
   "cell_type": "markdown",
   "metadata": {},
   "source": [
    "### Functions as Objects\n",
    "\n",
    "Functions are first-class objects in Python, meaning they have attributes and can be referenced and assigned to variables."
   ]
  },
  {
   "cell_type": "code",
   "execution_count": 17,
   "metadata": {},
   "outputs": [
    {
     "name": "stdout",
     "output_type": "stream",
     "text": [
      "100\n",
      "10000\n",
      "<function square at 0x000001C7B95B99D8>\n",
      "<function square at 0x000001C7B95B99D8>\n",
      "['__annotations__', '__call__', '__class__', '__closure__', '__code__', '__defaults__', '__delattr__', '__dict__', '__dir__', '__doc__', '__eq__', '__format__', '__ge__', '__get__', '__getattribute__', '__globals__', '__gt__', '__hash__', '__init__', '__init_subclass__', '__kwdefaults__', '__le__', '__lt__', '__module__', '__name__', '__ne__', '__new__', '__qualname__', '__reduce__', '__reduce_ex__', '__repr__', '__setattr__', '__sizeof__', '__str__', '__subclasshook__']\n",
      "\n",
      "    This returns the square of the requested number `x`\n",
      "    \n"
     ]
    }
   ],
   "source": [
    "def square(x):\n",
    "    \"\"\"\n",
    "    This returns the square of the requested number `x`\n",
    "    \"\"\"\n",
    "    return x**2\n",
    "\n",
    "print(square(10))\n",
    "mySquare = square\n",
    "print(mySquare(100))\n",
    "print(square)\n",
    "print(mySquare)\n",
    "print(dir(square))\n",
    "print(square.__doc__)"
   ]
  },
  {
   "cell_type": "markdown",
   "metadata": {},
   "source": [
    "### higher-order function\n",
    "\n",
    "Python also supports higher-order functions, meaning that functions can accept other functions as arguments and return functions to the caller."
   ]
  },
  {
   "cell_type": "code",
   "execution_count": 18,
   "metadata": {},
   "outputs": [
    {
     "name": "stdout",
     "output_type": "stream",
     "text": [
      "100000000\n"
     ]
    }
   ],
   "source": [
    "print(square(square(square(10))))"
   ]
  },
  {
   "cell_type": "code",
   "execution_count": 7,
   "metadata": {},
   "outputs": [
    {
     "name": "stdout",
     "output_type": "stream",
     "text": [
      "13\n"
     ]
    }
   ],
   "source": [
    "product_func = lambda x, y: x*y\n",
    "\n",
    "sum_func = lambda F, m: lambda x, y: F(x, y)+m\n",
    "print(sum_func(product_func, 5)(2, 4)) "
   ]
  },
  {
   "cell_type": "markdown",
   "metadata": {},
   "source": [
    "In the above example higher-order function that takes two inputs- A function `F(x)` and a multiplier `m`."
   ]
  },
  {
   "cell_type": "markdown",
   "metadata": {},
   "source": [
    "### Nested Functions\n",
    "\n",
    "Functions can be defined within the scope of another function. If this type of function definition is used, the inner function is only in scope inside the outer function, so it is most often useful when the inner function is being returned (moving it to the outer scope) or when it is being passed into another function.\n",
    "\n",
    "Notice that in the below example, a new instance of the function `inner()` is created on each call to `outer()`. That is because it is defined during the execution of `outer()`. The creation of the second instance has no impact on the first.\n"
   ]
  },
  {
   "cell_type": "code",
   "execution_count": 13,
   "metadata": {},
   "outputs": [
    {
     "name": "stdout",
     "output_type": "stream",
     "text": [
      "~\n",
      "20\n",
      "********************\n",
      "<function outer.<locals>.inner at 0x000001EC0DCFE158>\n",
      "2000\n",
      "~\n",
      "20\n",
      "<function outer.<locals>.inner at 0x000001EC0DCD5BF8>\n",
      "8000\n"
     ]
    }
   ],
   "source": [
    "def outer():\n",
    "    \"\"\"\n",
    "    Outer function \n",
    "    \"\"\"\n",
    "    if 'a' in locals():\n",
    "        a +=10\n",
    "    else:\n",
    "        print(\"~\"),\n",
    "        a = 20\n",
    "    def inner(x):\n",
    "        \"\"\"\n",
    "        inner function\n",
    "        \"\"\"\n",
    "        return(x*x*a)\n",
    "    print(a)\n",
    "    return inner\n",
    "\n",
    "o = outer()\n",
    "print(\"*\"*20)\n",
    "print(o)\n",
    "print(o(10))\n",
    "\n",
    "b = outer()\n",
    "print(b)\n",
    "print(b(20))"
   ]
  },
  {
   "cell_type": "markdown",
   "metadata": {},
   "source": [
    "#### Inner Functions - Uses\n",
    "\n",
    "##### Encapsulation\n",
    "You use inner functions to protect them from anything happening outside of the function, meaning that they are hidden from the global scope."
   ]
  },
  {
   "cell_type": "code",
   "execution_count": 26,
   "metadata": {},
   "outputs": [
    {
     "name": "stdout",
     "output_type": "stream",
     "text": [
      "10 11\n"
     ]
    }
   ],
   "source": [
    "# Encapsulation\n",
    "\n",
    "def outer(num1):\n",
    "    def inner_increment(num1):  # hidden from outer code\n",
    "        return num1 + 1\n",
    "    num2 = inner_increment(num1)\n",
    "    print(num1, num2)\n",
    "\n",
    "outer(10)\n",
    "# inner_increment(10) # Will Fail\n",
    "# outer(10).inner_increment(2) # Will Fail"
   ]
  },
  {
   "cell_type": "code",
   "execution_count": null,
   "metadata": {
    "collapsed": true
   },
   "outputs": [],
   "source": []
  },
  {
   "cell_type": "code",
   "execution_count": null,
   "metadata": {
    "collapsed": true
   },
   "outputs": [],
   "source": []
  },
  {
   "cell_type": "code",
   "execution_count": null,
   "metadata": {
    "collapsed": true
   },
   "outputs": [],
   "source": []
  },
  {
   "cell_type": "markdown",
   "metadata": {},
   "source": [
    "### Recursion\n",
    "\n",
    "Functional programming doesn’t really provide for iteration via `while` or `for` statements. Neither does it have the provision of state-updates. As a result, recursion is a strong theme in functional programming. It is worthwhile to remember that any iterative code can be converted to recursive code."
   ]
  },
  {
   "cell_type": "code",
   "execution_count": 20,
   "metadata": {},
   "outputs": [
    {
     "name": "stdout",
     "output_type": "stream",
     "text": [
      "5\n"
     ]
    }
   ],
   "source": [
    "fibonacci = (lambda x, x_1=1, x_2=0:\n",
    "         x_2 if x == 0\n",
    "         else fibonacci(x - 1, x_1 + x_2, x_1))\n",
    "\n",
    "print(fibonacci(5))"
   ]
  },
  {
   "cell_type": "markdown",
   "metadata": {},
   "source": [
    "### No iterators as sequences\n",
    "\n",
    "This is a small point, but since the value of the next element in an iterator depends on its state(which violates Referential Transparency), iterators aren’t present in pure-functional code. Instead if we are writing pure-functional code we only deal with explicit immutable tuples – which you can generate from an iterator in Python using tuple()."
   ]
  },
  {
   "cell_type": "markdown",
   "metadata": {},
   "source": [
    "### map, reduce and filter\n",
    "\n",
    "map, reduce and filter are three higher-order functions that appear in all pure functional languages – and in Python, too. Their prevalence suggests how often they are used in functional code to make it more elegant."
   ]
  },
  {
   "cell_type": "markdown",
   "metadata": {},
   "source": [
    "#### Map\n",
    "\n",
    "\n",
    "map basically provides a kind of parallelism by calling a function over all elements in a list/array. Here’s an example:\n",
    "Map takes a function and a collection of items. It makes a new, empty collection, runs the function on each item in the original collection and inserts each return value into the new collection. It returns the new collection.\n",
    "\n",
    "This is a simple map that takes a list of names and returns a list of the lengths of those names:"
   ]
  },
  {
   "cell_type": "code",
   "execution_count": 36,
   "metadata": {},
   "outputs": [
    {
     "name": "stdout",
     "output_type": "stream",
     "text": [
      "<map object at 0x000001EC0DCF1080>\n",
      "<map object at 0x000001EC0DCF10B8>\n"
     ]
    }
   ],
   "source": [
    "name_lengths = map(len, [\"Mayank\", \"Manish\", \"Aalok\"])\n",
    "\n",
    "print(name_lengths)\n",
    "\n",
    "# This is a map that squares every number in the passed collection:\n",
    "squares = map(lambda x: x * x, [0, 1, 2, 3, 4])\n",
    "print(squares.__str__())"
   ]
  },
  {
   "cell_type": "markdown",
   "metadata": {},
   "source": [
    "This map doesn’t take a named function. It takes an anonymous, inlined function defined with lambda. The parameters of the lambda are defined to the left of the colon. The function body is defined to the right of the colon. The result of running the function body is (implicitly) returned.\n",
    "\n",
    "The unfunctional code below takes a list of real names and appends them with randomly assigned code names."
   ]
  },
  {
   "cell_type": "code",
   "execution_count": 60,
   "metadata": {},
   "outputs": [
    {
     "name": "stdout",
     "output_type": "stream",
     "text": [
      "{'Mayank': 'Mr. God', 'Manish': 'Mr. Normal', 'Aalok': 'Mr. Cool'}\n"
     ]
    }
   ],
   "source": [
    "import random\n",
    "\n",
    "names_dict = {}\n",
    "names = [\"Mayank\", \"Manish\", \"Aalok\"]\n",
    "code_names = \n",
    "\n",
    "for i in range(len(names)):\n",
    "    names_dict[names[i]] = random.choice(code_names)\n",
    "\n",
    "print(names_dict)"
   ]
  },
  {
   "cell_type": "markdown",
   "metadata": {},
   "source": [
    "(As you can see, this algorithm can potentially assign the same secret code name to multiple secret agents. Hopefully, this won’t be a source of confusion during the secret mission.)\n",
    "\n",
    "This can be rewritten as a map:"
   ]
  },
  {
   "cell_type": "code",
   "execution_count": 67,
   "metadata": {},
   "outputs": [
    {
     "name": "stdout",
     "output_type": "stream",
     "text": [
      "<map object at 0x000001EC0CC869B0>\n"
     ]
    }
   ],
   "source": [
    "import random\n",
    "\n",
    "names = [\"Mayank\", \"Manish\", \"Aalok\"]\n",
    "\n",
    "secret_names = map(lambda x: random.choice(['Mr. Normal', \n",
    "                                            'Mr. God', \n",
    "                                            'Mr. Cool']),\n",
    "                                           names)\n",
    "print(secret_names)"
   ]
  },
  {
   "cell_type": "markdown",
   "metadata": {},
   "source": [
    "#### Reduce\n",
    "\n",
    "Reduce takes a function and a collection of items. It returns a value that is created by combining the items. This is a simple reduce. It returns the sum of all the items in the collection."
   ]
  },
  {
   "cell_type": "code",
   "execution_count": 79,
   "metadata": {},
   "outputs": [
    {
     "name": "stdout",
     "output_type": "stream",
     "text": [
      "120\n"
     ]
    }
   ],
   "source": [
    "from functools import reduce\n",
    "product = reduce(lambda a, x: a * x, range(1, 6))\n",
    "\n",
    "print(product) # (((1 * 2 )* 3 )* 4) * 5"
   ]
  },
  {
   "cell_type": "markdown",
   "metadata": {},
   "source": [
    "In the above example, `x` is the current iterated item and `a` is the accumulator. \n",
    "It is the value returned by the execution of the lambda on the previous item. reduce() walks through the items. For each one, it runs the lambda on the current a and x and returns the result as the a of the next iteration.\n",
    "\n",
    "What is a in the first iteration? There is no previous iteration result for it to pass along. reduce() uses the first item in the collection for a in the first iteration and starts iterating at the second item. That is, the first x is the second item.\n",
    "\n",
    "This code counts how often the word 'Sam' appears in a list of strings:"
   ]
  },
  {
   "cell_type": "code",
   "execution_count": 80,
   "metadata": {},
   "outputs": [
    {
     "name": "stdout",
     "output_type": "stream",
     "text": [
      "3\n"
     ]
    }
   ],
   "source": [
    "sentences = ['Mary read a story to Sam and Isla.',\n",
    "             'Isla cuddled Sam.',\n",
    "             'Sam chortled.']\n",
    "\n",
    "sam_count = 0\n",
    "for sentence in sentences:\n",
    "    sam_count += sentence.count('Sam')\n",
    "\n",
    "print(sam_count)"
   ]
  },
  {
   "cell_type": "code",
   "execution_count": 82,
   "metadata": {},
   "outputs": [
    {
     "name": "stdout",
     "output_type": "stream",
     "text": [
      "3\n"
     ]
    }
   ],
   "source": [
    "# This is the same code written as a reduce:\n",
    "\n",
    "sentences = ['Mary read a story to Sam and Isla.',\n",
    "             'Isla cuddled Sam.',\n",
    "             'Sam chortled.']\n",
    "\n",
    "sam_count = reduce(lambda a, x: a + x.count('Sam'),\n",
    "                   sentences,\n",
    "                   0)\n",
    "print(sam_count)"
   ]
  },
  {
   "cell_type": "markdown",
   "metadata": {},
   "source": [
    "**NOTE:**\n",
    "\n",
    "How does this code come up with its initial a? The starting point for the number of incidences of 'Sam' cannot be 'Mary read a story to Sam and Isla.' The initial accumulator is specified with the third argument to reduce(). This allows the use of a value of a different type from the items in the collection."
   ]
  },
  {
   "cell_type": "markdown",
   "metadata": {},
   "source": [
    "#### Benefits map and reduce \n",
    "\n",
    "* they are often one-liners.\n",
    "* the important parts of the iteration - the collection, the operation and the return value - are always in the same places in every map and reduce.\n",
    "* the code in a loop may affect variables defined before it or code that runs after it. By convention, maps and reduces are functional.\n",
    "* map and reduce are elemental operations. Every time a person reads a for loop, they have to work through the logic line by line. There are few structural regularities they can use to create a scaffolding on which to hang their understanding of the code. In contrast, map and reduce are at once building blocks that can be combined into complex algorithms, and elements that the code reader can instantly understand and abstract in their mind. “Ah, this code is transforming each item in this collection. It’s throwing some of the transformations away. It’s combining the remainder into a single output.”\n",
    "* map and reduce have many friends that provide useful, tweaked versions of their basic behaviour. For example: filter, all, any and find."
   ]
  },
  {
   "cell_type": "markdown",
   "metadata": {},
   "source": [
    "\n",
    "\n",
    "\n",
    "\n",
    "\n",
    "Exercise 2. Try rewriting the code below using map, reduce and filter. Filter takes a function and a collection. It returns a collection of every item for which the function returned True.\n",
    "\n",
    "people = [{'name': 'Mary', 'height': 160},\n",
    "          {'name': 'Isla', 'height': 80},\n",
    "          {'name': 'Sam'}]\n",
    "\n",
    "height_total = 0\n",
    "height_count = 0\n",
    "for person in people:\n",
    "    if 'height' in person:\n",
    "        height_total += person['height']\n",
    "        height_count += 1\n",
    "\n",
    "if height_count > 0:\n",
    "    average_height = height_total / height_count\n",
    "\n",
    "    print average_height\n",
    "    # => 120\n",
    "\n",
    "If this seems tricky, try not thinking about the operations on the data. Think of the states the data will go through, from the list of people dictionaries to the average height. Don’t try and bundle multiple transformations together. Put each on a separate line and assign the result to a descriptively-named variable. Once the code works, condense it.\n",
    "\n",
    "My solution:\n",
    "\n",
    "people = [{'name': 'Mary', 'height': 160},\n",
    "          {'name': 'Isla', 'height': 80},\n",
    "          {'name': 'Sam'}]\n",
    "\n",
    "heights = map(lambda x: x['height'],\n",
    "              filter(lambda x: 'height' in x, people))\n",
    "\n",
    "if len(heights) > 0:\n",
    "    from operator import add\n",
    "    average_height = reduce(add, heights) / len(heights)\n",
    "\n",
    "Write declaratively, not imperatively\n",
    "\n",
    "The program below runs a race between three cars. At each time step, each car may move forwards or it may stall. At each time step, the program prints out the paths of the cars so far. After five time steps, the race is over.\n",
    "\n",
    "This is some sample output:\n",
    "\n",
    "-\n",
    "--\n",
    "--\n",
    "\n",
    "--\n",
    "--\n",
    "---\n",
    "\n",
    "---\n",
    "--\n",
    "---\n",
    "\n",
    "----\n",
    "---\n",
    "----\n",
    "\n",
    "----\n",
    "----\n",
    "-----\n",
    "\n",
    "This is the program:\n",
    "\n",
    "from random import random\n",
    "\n",
    "time = 5\n",
    "car_positions = [1, 1, 1]\n",
    "\n",
    "while time:\n",
    "    # decrease time\n",
    "    time -= 1\n",
    "\n",
    "    print ''\n",
    "    for i in range(len(car_positions)):\n",
    "        # move car\n",
    "        if random() > 0.3:\n",
    "            car_positions[i] += 1\n",
    "\n",
    "        # draw car\n",
    "        print '-' * car_positions[i]\n",
    "\n",
    "The code is written imperatively. A functional version would be declarative. It would describe what to do, rather than how to do it.\n",
    "Use functions\n",
    "\n",
    "A program can be made more declarative by bundling pieces of the code into functions.\n",
    "\n",
    "from random import random\n",
    "\n",
    "def move_cars():\n",
    "    for i, _ in enumerate(car_positions):\n",
    "        if random() > 0.3:\n",
    "            car_positions[i] += 1\n",
    "\n",
    "def draw_car(car_position):\n",
    "    print '-' * car_position\n",
    "\n",
    "def run_step_of_race():\n",
    "    global time\n",
    "    time -= 1\n",
    "    move_cars()\n",
    "\n",
    "def draw():\n",
    "    print ''\n",
    "    for car_position in car_positions:\n",
    "        draw_car(car_position)\n",
    "\n",
    "time = 5\n",
    "car_positions = [1, 1, 1]\n",
    "\n",
    "while time:\n",
    "    run_step_of_race()\n",
    "    draw()\n",
    "\n",
    "To understand this program, the reader just reads the main loop. “If there is time left, run a step of the race and draw. Check the time again.” If the reader wants to understand more about what it means to run a step of the race, or draw, they can read the code in those functions.\n",
    "\n",
    "There are no comments any more. The code describes itself.\n",
    "\n",
    "Splitting code into functions is a great, low brain power way to make code more readable.\n",
    "\n",
    "This technique uses functions, but it uses them as sub-routines. They parcel up code. The code is not functional in the sense of the guide rope. The functions in the code use state that was not passed as arguments. They affect the code around them by changing external variables, rather than by returning values. To check what a function really does, the reader must read each line carefully. If they find an external variable, they must find its origin. They must see what other functions change that variable.\n",
    "Remove state\n",
    "\n",
    "This is a functional version of the car race code:\n",
    "\n",
    "from random import random\n",
    "\n",
    "def move_cars(car_positions):\n",
    "    return map(lambda x: x + 1 if random() > 0.3 else x,\n",
    "               car_positions)\n",
    "\n",
    "def output_car(car_position):\n",
    "    return '-' * car_position\n",
    "\n",
    "def run_step_of_race(state):\n",
    "    return {'time': state['time'] - 1,\n",
    "            'car_positions': move_cars(state['car_positions'])}\n",
    "\n",
    "def draw(state):\n",
    "    print ''\n",
    "    print '\\n'.join(map(output_car, state['car_positions']))\n",
    "\n",
    "def race(state):\n",
    "    draw(state)\n",
    "    if state['time']:\n",
    "        race(run_step_of_race(state))\n",
    "\n",
    "race({'time': 5,\n",
    "      'car_positions': [1, 1, 1]})\n",
    "\n",
    "The code is still split into functions, but the functions are functional. There are three signs of this. First, there are no longer any shared variables. time and car_positions get passed straight into race(). Second, functions take parameters. Third, no variables are instantiated inside functions. All data changes are done with return values. race() recurses3 with the result of run_step_of_race(). Each time a step generates a new state, it is passed immediately into the next step.\n",
    "\n",
    "Now, here are two functions, zero() and one():\n",
    "\n",
    "def zero(s):\n",
    "    if s[0] == \"0\":\n",
    "        return s[1:]\n",
    "\n",
    "def one(s):\n",
    "    if s[0] == \"1\":\n",
    "        return s[1:]\n",
    "\n",
    "zero() takes a string, s. If the first character is '0', it returns the rest of the string. If it is not, it returns None, the default return value of Python functions. one() does the same, but for a first character of '1'.\n",
    "\n",
    "Imagine a function called rule_sequence(). It takes a string and a list of rule functions of the form of zero() and one(). It calls the first rule on the string. Unless None is returned, it takes the return value and calls the second rule on it. Unless None is returned, it takes the return value and calls the third rule on it. And so forth. If any rule returns None, rule_sequence() stops and returns None. Otherwise, it returns the return value of the final rule.\n",
    "\n",
    "This is some sample input and output:\n",
    "\n",
    "print rule_sequence('0101', [zero, one, zero])\n",
    "# => 1\n",
    "\n",
    "print rule_sequence('0101', [zero, zero])\n",
    "# => None\n",
    "\n",
    "This is the imperative version of rule_sequence():\n",
    "\n",
    "def rule_sequence(s, rules):\n",
    "    for rule in rules:\n",
    "        s = rule(s)\n",
    "        if s == None:\n",
    "            break\n",
    "\n",
    "    return s\n",
    "\n",
    "Exercise 3. The code above uses a loop to do its work. Make it more declarative by rewriting it as a recursion.\n",
    "\n",
    "My solution:\n",
    "\n",
    "def rule_sequence(s, rules):\n",
    "    if s == None or not rules:\n",
    "        return s\n",
    "    else:\n",
    "        return rule_sequence(rules[0](s), rules[1:])\n",
    "\n",
    "Use pipelines\n",
    "\n",
    "In the previous section, some imperative loops were rewritten as recursions that called out to auxiliary functions. In this section, a different type of imperative loop will be rewritten using a technique called a pipeline.\n",
    "\n",
    "The loop below performs transformations on dictionaries that hold the name, incorrect country of origin and active status of some bands.\n",
    "\n",
    "bands = [{'name': 'sunset rubdown', 'country': 'UK', 'active': False},\n",
    "         {'name': 'women', 'country': 'Germany', 'active': False},\n",
    "         {'name': 'a silver mt. zion', 'country': 'Spain', 'active': True}]\n",
    "\n",
    "def format_bands(bands):\n",
    "    for band in bands:\n",
    "        band['country'] = 'Canada'\n",
    "        band['name'] = band['name'].replace('.', '')\n",
    "        band['name'] = band['name'].title()\n",
    "\n",
    "format_bands(bands)\n",
    "\n",
    "print bands\n",
    "# => [{'name': 'Sunset Rubdown', 'active': False, 'country': 'Canada'},\n",
    "#     {'name': 'Women', 'active': False, 'country': 'Canada' },\n",
    "#     {'name': 'A Silver Mt Zion', 'active': True, 'country': 'Canada'}]\n",
    "\n",
    "Worries are stirred by the name of the function. “format” is very vague. Upon closer inspection of the code, these worries begin to claw. Three things happen in the same loop. The 'country' key gets set to 'Canada'. Punctuation is removed from the band name. The band name gets capitalized. It is hard to tell what the code is intended to do and hard to tell if it does what it appears to do. The code is hard to reuse, hard to test and hard to parallelize.\n",
    "\n",
    "Compare it with this:\n",
    "\n",
    "print pipeline_each(bands, [set_canada_as_country,\n",
    "                            strip_punctuation_from_name,\n",
    "                            capitalize_names])\n",
    "\n",
    "This code is easy to understand. It gives the impression that the auxiliary functions are functional because they seem to be chained together. The output from the previous one comprises the input to the next. If they are functional, they are easy to verify. They are also easy to reuse, easy to test and easy to parallelize.\n",
    "\n",
    "The job of pipeline_each() is to pass the bands, one at a time, to a transformation function, like set_canada_as_country(). After the function has been applied to all the bands, pipeline_each() bundles up the transformed bands. Then, it passes each one to the next function.\n",
    "\n",
    "Let’s look at the transformation functions.\n",
    "\n",
    "def assoc(_d, key, value):\n",
    "    from copy import deepcopy\n",
    "    d = deepcopy(_d)\n",
    "    d[key] = value\n",
    "    return d\n",
    "\n",
    "def set_canada_as_country(band):\n",
    "    return assoc(band, 'country', \"Canada\")\n",
    "\n",
    "def strip_punctuation_from_name(band):\n",
    "    return assoc(band, 'name', band['name'].replace('.', ''))\n",
    "\n",
    "def capitalize_names(band):\n",
    "    return assoc(band, 'name', band['name'].title())\n",
    "\n",
    "Each one associates a key on a band with a new value. There is no easy way to do this without mutating the original band. assoc() solves this problem by using deepcopy() to produce a copy of the passed dictionary. Each transformation function makes its modification to the copy and returns that copy.\n",
    "\n",
    "Everything seems fine. Band dictionary originals are protected from mutation when a key is associated with a new value. But there are two other potential mutations in the code above. In strip_punctuation_from_name(), the unpunctuated name is generated by calling replace() on the original name. In capitalize_names(), the capitalized name is generated by calling title() on the original name. If replace() and title() are not functional, strip_punctuation_from_name() and capitalize_names() are not functional.\n",
    "\n",
    "Fortunately, replace() and title() do not mutate the strings they operate on. This is because strings are immutable in Python. When, for example, replace() operates on a band name string, the original band name is copied and replace() is called on the copy. Phew.\n",
    "\n",
    "This contrast between the mutability of strings and dictionaries in Python illustrates the appeal of languages like Clojure. The programmer need never think about whether they are mutating data. They aren’t.\n",
    "\n",
    "Exercise 4. Try and write the pipeline_each function. Think about the order of operations. The bands in the array are passed, one band at a time, to the first transformation function. The bands in the resulting array are passed, one band at a time, to the second transformation function. And so forth.\n",
    "\n",
    "My solution:\n",
    "\n",
    "def pipeline_each(data, fns):\n",
    "    return reduce(lambda a, x: map(x, a),\n",
    "                  fns,\n",
    "                  data)\n",
    "\n",
    "All three transformation functions boil down to making a change to a particular field on the passed band. call() can be used to abstract that. It takes a function to apply and the key of the value to apply it to.\n",
    "\n",
    "set_canada_as_country = call(lambda x: 'Canada', 'country')\n",
    "strip_punctuation_from_name = call(lambda x: x.replace('.', ''), 'name')\n",
    "capitalize_names = call(str.title, 'name')\n",
    "\n",
    "print pipeline_each(bands, [set_canada_as_country,\n",
    "                            strip_punctuation_from_name,\n",
    "                            capitalize_names])\n",
    "\n",
    "Or, if we are willing to sacrifice readability for conciseness, just:\n",
    "\n",
    "print pipeline_each(bands, [call(lambda x: 'Canada', 'country'),\n",
    "                            call(lambda x: x.replace('.', ''), 'name'),\n",
    "                            call(str.title, 'name')])\n",
    "\n",
    "The code for call():\n",
    "\n",
    "def assoc(_d, key, value):\n",
    "    from copy import deepcopy\n",
    "    d = deepcopy(_d)\n",
    "    d[key] = value\n",
    "    return d\n",
    "\n",
    "def call(fn, key):\n",
    "    def apply_fn(record):\n",
    "        return assoc(record, key, fn(record.get(key)))\n",
    "    return apply_fn\n",
    "\n",
    "There is a lot going on here. Let’s take it piece by piece.\n",
    "\n",
    "One. call() is a higher order function. A higher order function takes a function as an argument, or returns a function. Or, like call(), it does both.\n",
    "\n",
    "Two. apply_fn() looks very similar to the three transformation functions. It takes a record (a band). It looks up the value at record[key]. It calls fn on that value. It assigns the result back to a copy of the record. It returns the copy.\n",
    "\n",
    "Three. call() does not do any actual work. apply_fn(), when called, will do the work. In the example of using pipeline_each() above, one instance of apply_fn() will set 'country' to 'Canada' on a passed band. Another instance will capitalize the name of a passed band.\n",
    "\n",
    "Four. When an apply_fn() instance is run, fn and key will not be in scope. They are neither arguments to apply_fn(), nor locals inside it. But they will still be accessible. When a function is defined, it saves references to the variables it closes over: those that were defined in a scope outside the function and that are used inside the function. When the function is run and its code references a variable, Python looks up the variable in the locals and in the arguments. If it doesn’t find it there, it looks in the saved references to closed over variables. This is where it will find fn and key.\n",
    "\n",
    "Five. There is no mention of bands in the call() code. That is because call() could be used to generate pipeline functions for any program, regardless of topic. Functional programming is partly about building up a library of generic, reusable, composable functions.\n",
    "\n",
    "Good job. Closures, higher order functions and variable scope all covered in the space of a few paragraphs. Have a nice glass of lemonade.\n",
    "\n",
    "There is one more piece of band processing to do. That is to remove everything but the name and country. extract_name_and_country() can pull that information out:\n",
    "\n",
    "def extract_name_and_country(band):\n",
    "    plucked_band = {}\n",
    "    plucked_band['name'] = band['name']\n",
    "    plucked_band['country'] = band['country']\n",
    "    return plucked_band\n",
    "\n",
    "print pipeline_each(bands, [call(lambda x: 'Canada', 'country'),\n",
    "                            call(lambda x: x.replace('.', ''), 'name'),\n",
    "                            call(str.title, 'name'),\n",
    "                            extract_name_and_country])\n",
    "\n",
    "# => [{'name': 'Sunset Rubdown', 'country': 'Canada'},\n",
    "#     {'name': 'Women', 'country': 'Canada'},\n",
    "#     {'name': 'A Silver Mt Zion', 'country': 'Canada'}]\n",
    "\n",
    "extract_name_and_country() could have been written as a generic function called pluck(). pluck() would be used like this:\n",
    "\n",
    "print pipeline_each(bands, [call(lambda x: 'Canada', 'country'),\n",
    "                            call(lambda x: x.replace('.', ''), 'name'),\n",
    "                            call(str.title, 'name'),\n",
    "                            pluck(['name', 'country'])])\n",
    "\n",
    "Exercise 5. pluck() takes a list of keys to extract from each record. Try and write it. It will need to be a higher order function.\n",
    "\n",
    "My solution:\n",
    "\n",
    "def pluck(keys):\n",
    "    def pluck_fn(record):\n",
    "        return reduce(lambda a, x: assoc(a, x, record[x]),\n",
    "                      keys,\n",
    "                      {})\n",
    "    return pluck_fn\n",
    "\n",
    "What now?\n",
    "\n",
    "Functional code co-exists very well with code written in other styles. The transformations in this article can be applied to any code base in any language. Try applying them to your own code.\n",
    "\n",
    "Think of Mary, Isla and Sam. Turn iterations of lists into maps and reduces.\n",
    "\n",
    "Think of the race. Break code into functions. Make those functions functional. Turn a loop that repeats a process into a recursion.\n",
    "\n",
    "Think of the bands. Turn a sequence of operations into a pipeline.\n",
    "\n",
    "1 An immutable piece of data is one that cannot be changed. Some languages, like Clojure, make all values immutable by default. Any “mutating” operations copy the value, change it and pass back the changed copy. This eliminates bugs that arise from a programmer’s incomplete model of the possible states their program may enter.\n",
    "\n",
    "2 Languages that support first class functions allow functions to be treated like any other value. This means they can be created, passed to functions, returned from functions and stored inside data structures.\n",
    "\n",
    "3 Tail call optimisation is a programming language feature. Each time a function recurses, a new stack frame is created. A stack frame is used to store the arguments and local values for the current function invocation. If a function recurses a large number of times, it is possible for the interpreter or compiler to run out of memory. Languages with tail call optimisation reuse the same stack frame for their entire sequence of recursive calls. Languages like Python that do not have tail call optimisation generally limit the number of times a function may recurse to some number in the thousands. In the case of the race() function, there are only five time steps, so it is safe.\n",
    "\n",
    "4 Currying means decomposing a function that takes multiple arguments into a function that takes the first argument and returns a function that takes the next argument, and so forth for all the arguments.\n",
    "\n",
    "5 Parallelization means running the same code concurrently without synchronization. These concurrent processes are often run on multiple processors.\n",
    "\n",
    "6 Lazy evaluation is a compiler technique that avoids running code until the result is needed.\n",
    "\n",
    "7 A process is deterministic if repetitions yield the same result every time.\n",
    "\n",
    "                             \n"
   ]
  },
  {
   "cell_type": "code",
   "execution_count": null,
   "metadata": {
    "collapsed": true
   },
   "outputs": [],
   "source": [
    "\n",
    "\n",
    "## Characteristics of functional programming\n",
    "\n",
    "- Functions are first class (objects). That is, everything which can be done with \"data\" can be done with functions themselves (such as passing a function to another function).\n",
    "- Recursion is used as a primary control structure.\n",
    "- There is a focus on LISt Processing and are often used with recursion on sub-lists as a substitute for loops.\n",
    "- **\"Pure\"** *functional languages* avoid \"side-effects\". This excludes the almost ubiquitous pattern in imperative languages of assigning first one, then another value to the same variable to track the program state.\n",
    "- FP either discourages or outright disallows statements, and instead works with the evaluation of expressions (in other words, functions plus arguments). In the pure case, one program is one expression (plus supporting definitions).\n",
    "- FP worries about what is to be computed rather than how it is to be computed.\n",
    "- Much FP utilizes \"higher order\" functions (in other words, functions that operate on functions that operate on functions). "
   ]
  },
  {
   "cell_type": "markdown",
   "metadata": {},
   "source": [
    "\n",
    "- Avoid state\n",
    "- Immutable data\n",
    "- First-class functions\n",
    "- Higher-order functions\n",
    "- Pure functions\n",
    "- Recursion, tail recursion\n",
    "- Iterators, sequences, lazy evaluation, pattern matching, monads, etc."
   ]
  }
 ],
 "metadata": {
  "kernelspec": {
   "display_name": "Python 3",
   "language": "python",
   "name": "python3"
  },
  "language_info": {
   "codemirror_mode": {
    "name": "ipython",
    "version": 3
   },
   "file_extension": ".py",
   "mimetype": "text/x-python",
   "name": "python",
   "nbconvert_exporter": "python",
   "pygments_lexer": "ipython3",
   "version": "3.6.1"
  }
 },
 "nbformat": 4,
 "nbformat_minor": 2
}
