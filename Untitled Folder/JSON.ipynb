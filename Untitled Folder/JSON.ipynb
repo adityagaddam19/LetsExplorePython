{
 "cells": [
  {
   "cell_type": "markdown",
   "metadata": {},
   "source": [
    "# JSON\n",
    "\n",
    "The json library can parse JSON from strings or files. The library parses JSON into a Python dictionary or list. It can also convert Python dictionaries or lists into JSON strings.\n",
    "\n",
    "## Parsing JSON\n",
    "Take the following string containing JSON data:"
   ]
  },
  {
   "cell_type": "code",
   "execution_count": 9,
   "metadata": {
    "collapsed": false
   },
   "outputs": [
    {
     "name": "stdout",
     "output_type": "stream",
     "text": [
      "{'last_name': 'Rossum', 'first_name': 'Guido'}\n",
      "<class 'dict'>\n"
     ]
    }
   ],
   "source": [
    "import json\n",
    "\n",
    "json_string = '{\"first_name\": \"Guido\", \"last_name\":\"Rossum\"}'\n",
    "parsed_json = json.loads(json_string)\n",
    "print(parsed_json)\n",
    "print(type(parsed_json))"
   ]
  },
  {
   "cell_type": "code",
   "execution_count": 10,
   "metadata": {
    "collapsed": false
   },
   "outputs": [
    {
     "name": "stdout",
     "output_type": "stream",
     "text": [
      "Guido Rossum\n"
     ]
    }
   ],
   "source": [
    "print(parsed_json['first_name'], parsed_json['last_name'])"
   ]
  },
  {
   "cell_type": "markdown",
   "metadata": {},
   "source": [
    "## Updated example"
   ]
  },
  {
   "cell_type": "code",
   "execution_count": 11,
   "metadata": {
    "collapsed": false
   },
   "outputs": [
    {
     "name": "stdout",
     "output_type": "stream",
     "text": [
      "{\"second_name\": \"Rossum\", \"first_name\": \"Guido\", \"titles\": [\"BDFL\", \"Developer\"]}\n",
      "<class 'str'>\n"
     ]
    }
   ],
   "source": [
    "d = {\n",
    "    'first_name': 'Guido',\n",
    "    'second_name': 'Rossum',\n",
    "    'titles': ['BDFL', 'Developer'],\n",
    "}\n",
    "\n",
    "data = json.dumps(d)\n",
    "print(data)\n",
    "print(type(data))"
   ]
  },
  {
   "cell_type": "markdown",
   "metadata": {},
   "source": [
    "## Examples"
   ]
  },
  {
   "cell_type": "code",
   "execution_count": 12,
   "metadata": {
    "collapsed": false
   },
   "outputs": [
    {
     "name": "stdout",
     "output_type": "stream",
     "text": [
      "{\"101\": {\"class\": \"V\", \"Name\": \"Rohit\", \"Roll_no\": 7}, \"102\": {\"class\": \"V\", \"Name\": \"David\", \"Roll_no\": 8}, \"103\": {\"class\": \"V\", \"Name\": \"Samiya\", \"Roll_no\": 12}}\n"
     ]
    }
   ],
   "source": [
    "### \n",
    "import json  \n",
    "student = {\"101\":{\"class\":'V', \"Name\":'Rohit',  \"Roll_no\":7},  \n",
    "           \"102\":{\"class\":'V', \"Name\":'David',  \"Roll_no\":8},  \n",
    "           \"103\":{\"class\":'V', \"Name\":'Samiya', \"Roll_no\":12}}  \n",
    "print(json.dumps(student)); "
   ]
  },
  {
   "cell_type": "code",
   "execution_count": 13,
   "metadata": {
    "collapsed": false
   },
   "outputs": [
    {
     "name": "stdout",
     "output_type": "stream",
     "text": [
      "{\"101\": {\"Name\": \"Rohit\", \"Roll_no\": 7, \"class\": \"V\"}, \"102\": {\"Name\": \"David\", \"Roll_no\": 8, \"class\": \"V\"}, \"103\": {\"Name\": \"Samiya\", \"Roll_no\": 12, \"class\": \"V\"}}\n"
     ]
    }
   ],
   "source": [
    "import json  \n",
    "student = {\"101\":{\"class\":'V', \"Name\":'Rohit',  \"Roll_no\":7},  \n",
    "           \"102\":{\"class\":'V', \"Name\":'David',  \"Roll_no\":8},  \n",
    "           \"103\":{\"class\":'V', \"Name\":'Samiya', \"Roll_no\":12}}  \n",
    "print(json.dumps(student, sort_keys=True)); "
   ]
  },
  {
   "cell_type": "code",
   "execution_count": 14,
   "metadata": {
    "collapsed": false
   },
   "outputs": [
    {
     "name": "stdout",
     "output_type": "stream",
     "text": [
      "[\"Red\", \"Black\", \"White\"]\n"
     ]
    }
   ],
   "source": [
    "import json  \n",
    "tup1 = 'Red', 'Black', 'White';  \n",
    "print(json.dumps(tup1));"
   ]
  },
  {
   "cell_type": "code",
   "execution_count": 15,
   "metadata": {
    "collapsed": false
   },
   "outputs": [
    {
     "name": "stdout",
     "output_type": "stream",
     "text": [
      "[5, 12, 13, 14]\n"
     ]
    }
   ],
   "source": [
    "import json  \n",
    "list1 = [5, 12, 13, 14];  \n",
    "print(json.dumps(list1));"
   ]
  },
  {
   "cell_type": "code",
   "execution_count": 16,
   "metadata": {
    "collapsed": false
   },
   "outputs": [
    {
     "name": "stdout",
     "output_type": "stream",
     "text": [
      "\"Python and JSON\"\n"
     ]
    }
   ],
   "source": [
    "import json  \n",
    "string1 = 'Python and JSON';  \n",
    "print(json.dumps(string1));"
   ]
  },
  {
   "cell_type": "code",
   "execution_count": 17,
   "metadata": {
    "collapsed": false
   },
   "outputs": [
    {
     "name": "stdout",
     "output_type": "stream",
     "text": [
      "true\n"
     ]
    }
   ],
   "source": [
    "import json  \n",
    "x = True;  \n",
    "print(json.dumps(x));  "
   ]
  },
  {
   "cell_type": "code",
   "execution_count": 18,
   "metadata": {
    "collapsed": false
   },
   "outputs": [
    {
     "name": "stdout",
     "output_type": "stream",
     "text": [
      "{'101': {'class': 'V', 'Name': 'Rohit', 'Roll_no': 7}, '102': {'class': 'V', 'Name': 'David', 'Roll_no': 8}, '103': {'class': 'V', 'Name': 'Samiya', 'Roll_n': 12}}\n"
     ]
    }
   ],
   "source": [
    "import json  \n",
    "json_data = '{\"103\": {\"class\": \"V\", \"Name\": \"Samiya\", \"Roll_n\": 12}, \"102\": {\"class\": \"V\", \"Name\": \"David\", \"Roll_no\": 8}, \"101\": {\"class\": \"V\", \"Name\": \"Rohit\", \"Roll_no\": 7}}';  \n",
    "print(json.loads(json_data));\n"
   ]
  },
  {
   "cell_type": "code",
   "execution_count": null,
   "metadata": {
    "collapsed": true
   },
   "outputs": [],
   "source": []
  }
 ],
 "metadata": {
  "kernelspec": {
   "display_name": "Python 3",
   "language": "python",
   "name": "python3"
  },
  "language_info": {
   "codemirror_mode": {
    "name": "ipython",
    "version": 3
   },
   "file_extension": ".py",
   "mimetype": "text/x-python",
   "name": "python",
   "nbconvert_exporter": "python",
   "pygments_lexer": "ipython3",
   "version": "3.6.0"
  }
 },
 "nbformat": 4,
 "nbformat_minor": 1
}
